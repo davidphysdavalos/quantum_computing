{
 "cells": [
  {
   "cell_type": "markdown",
   "id": "9f909144",
   "metadata": {},
   "source": [
    "# Implementing quantum channels in a quantum computer using smaller registers"
   ]
  },
  {
   "cell_type": "markdown",
   "id": "80ce9f45",
   "metadata": {},
   "source": [
    "__Implementation of quantum channels using a smaller quantum register by factorizing the target quantum channel into Kraus deficient channels__\n",
    "\n",
    "In this notebook I construct quantum circuits to simulate two singular quantum channels using a register with a size smaller than the one dictated by the [__Stinespring theorem__](https://www.quantiki.org/wiki/church-larger-hilbert-space). For qubit channels, the minimum environment dimension needed is\n",
    "\n",
    "$$\\mathcal{E}[\\rho]=\\sum_{i=1}^{4}{K_i \\rho K_i^\\dagger{}}$$\n",
    "\n",
    "<!--<img src=\"images/circuit.jpeg\" width=\"400\" class=\"center\">\n",
    "-->"
   ]
  },
  {
   "cell_type": "markdown",
   "id": "edcb8144",
   "metadata": {
    "heading_collapsed": true
   },
   "source": [
    "## Functions and libraries needed"
   ]
  },
  {
   "cell_type": "code",
   "execution_count": 3,
   "id": "8c4667e2",
   "metadata": {
    "hidden": true
   },
   "outputs": [],
   "source": [
    "# Importing libraries for the construction of the quantum circuit\n",
    "from qiskit import QuantumCircuit, transpile, ClassicalRegister, QuantumRegister, execute\n",
    "# Importing also numpy, will be needed later\n",
    "import numpy as np\n",
    "from qiskit.providers.ibmq import least_busy"
   ]
  },
  {
   "cell_type": "code",
   "execution_count": 4,
   "id": "79b5e19b",
   "metadata": {
    "hidden": true
   },
   "outputs": [],
   "source": [
    "#Loading account\n",
    "from qiskit import IBMQ\n",
    "IBMQ.load_account()\n",
    "provider = IBMQ.get_provider('ibm-q')"
   ]
  },
  {
   "cell_type": "code",
   "execution_count": 5,
   "id": "9f234b35",
   "metadata": {
    "hidden": true
   },
   "outputs": [
    {
     "name": "stderr",
     "output_type": "stream",
     "text": [
      "/tmp/ipykernel_1888305/3764712384.py:2: DeprecationWarning: The qiskit.ignis package is deprecated and has been supersceded by the qiskit-experiments project. Refer to the migration guide: https://github.com/Qiskit/qiskit-ignis#migration-guide on how to migrate to the new project.\n",
      "  from qiskit.ignis.verification.tomography import state_tomography_circuits, StateTomographyFitter\n"
     ]
    }
   ],
   "source": [
    "# Tomography functions\n",
    "from qiskit.ignis.verification.tomography import state_tomography_circuits, StateTomographyFitter\n",
    "from qiskit.ignis.verification.tomography import process_tomography_circuits, ProcessTomographyFitter\n",
    "from qiskit.ignis.verification.tomography import gateset_tomography_circuits, GatesetTomographyFitter\n",
    "from qiskit.tools.monitor import job_monitor"
   ]
  },
  {
   "cell_type": "markdown",
   "id": "9cd0fc2a",
   "metadata": {
    "hidden": true
   },
   "source": [
    "In order to compute how close is the implemented to the theoretical one, we compute the fidelity among them."
   ]
  },
  {
   "cell_type": "code",
   "execution_count": 6,
   "id": "f058fd0d",
   "metadata": {
    "hidden": true
   },
   "outputs": [],
   "source": [
    "#Linear Algebra functions\n",
    "from numpy import dot, trace\n",
    "from numpy.linalg import matrix_power, multi_dot\n",
    "from scipy.linalg import sqrtm"
   ]
  },
  {
   "cell_type": "code",
   "execution_count": 7,
   "id": "631c979e",
   "metadata": {
    "hidden": true
   },
   "outputs": [],
   "source": [
    "#Plotting functions\n",
    "import matplotlib.pyplot as plt"
   ]
  },
  {
   "cell_type": "markdown",
   "id": "31a91f1f",
   "metadata": {},
   "source": [
    "## Constructing circuits for the implementation of total depolarizing channel"
   ]
  },
  {
   "cell_type": "markdown",
   "id": "a2938534",
   "metadata": {},
   "source": [
    "The following unitaries simulate the total depolarizing channel according to the aforementioned decomposition."
   ]
  },
  {
   "cell_type": "code",
   "execution_count": 18,
   "id": "5b52e175",
   "metadata": {},
   "outputs": [],
   "source": [
    "#Define the same uniteries as in the last section just to ilustrate. \n",
    "U=[[0,0,0,1],\n",
    "   [0,1,0,0],\n",
    "   [0,0,1,0],\n",
    "   [1,0,0,0]\n",
    "  ]\n",
    "U2=[[1,0,0,0],\n",
    "   [0,2**-0.5,2**-0.5,0],\n",
    "   [0,2**-0.5,-2**-0.5,0],\n",
    "    [0,0,0,1]\n",
    "   ]\n",
    "U3=[[0,0,1,0],\n",
    "   [2**-0.5,0,0,2**-0.5],\n",
    "   [-2**-0.5,0,0,2**-0.5],\n",
    "    [0,1,0,0]\n",
    "   ]"
   ]
  },
  {
   "cell_type": "code",
   "execution_count": 19,
   "id": "b7146a74",
   "metadata": {},
   "outputs": [],
   "source": [
    "#Creation of quantum and classical registers and putting them together\n",
    "q = QuantumRegister(2)\n",
    "c = ClassicalRegister(1)\n",
    "qc=QuantumCircuit(q,c)"
   ]
  },
  {
   "cell_type": "markdown",
   "id": "b43d8f1b",
   "metadata": {},
   "source": [
    "I define below the unitaries that are going to implement each part of our channel"
   ]
  },
  {
   "cell_type": "code",
   "execution_count": 20,
   "id": "fdf091f5",
   "metadata": {},
   "outputs": [
    {
     "data": {
      "text/plain": [
       "<qiskit.circuit.instructionset.InstructionSet at 0x7f5a6e2fc880>"
      ]
     },
     "execution_count": 20,
     "metadata": {},
     "output_type": "execute_result"
    }
   ],
   "source": [
    "qc.unitary(U,[0,1],'$U_{boundary}$')\n",
    "qc.measure(1,0)\n",
    "qc.x([1]).c_if(c, 0)\n",
    "qc.unitary(U2,[0,1],'$U_{e^{\\mathcal{L}}}$')"
   ]
  },
  {
   "cell_type": "code",
   "execution_count": 21,
   "id": "d6539646",
   "metadata": {},
   "outputs": [
    {
     "data": {
      "image/png": "[encoded data removed]",
      "text/plain": [
       "<Figure size 400.723x204.68 with 1 Axes>"
      ]
     },
     "execution_count": 21,
     "metadata": {},
     "output_type": "execute_result"
    }
   ],
   "source": [
    "qc.draw('mpl')"
   ]
  },
  {
   "cell_type": "markdown",
   "id": "e521e99d",
   "metadata": {},
   "source": [
    "_Transpiling_ the circuit so that it can be implemented in the quantum computer. This process is made by IBM anyway."
   ]
  },
  {
   "cell_type": "code",
   "execution_count": 22,
   "id": "a539b7db",
   "metadata": {},
   "outputs": [],
   "source": [
    "trans_qc=transpile(qc,basis_gates=['cx','u3','u','cz'],optimization_level=3)"
   ]
  },
  {
   "cell_type": "code",
   "execution_count": 23,
   "id": "73fef18a",
   "metadata": {},
   "outputs": [
    {
     "data": {
      "image/png": "[encoded data removed]",
      "text/plain": [
       "<Figure size 1544.52x204.68 with 1 Axes>"
      ]
     },
     "execution_count": 23,
     "metadata": {},
     "output_type": "execute_result"
    }
   ],
   "source": [
    "trans_qc.draw('mpl')"
   ]
  },
  {
   "cell_type": "markdown",
   "id": "5e61f02b",
   "metadata": {},
   "source": [
    "### Quantum process tomography"
   ]
  },
  {
   "cell_type": "markdown",
   "id": "60b47e96",
   "metadata": {},
   "source": [
    "First we start session in IBM Quantum"
   ]
  },
  {
   "cell_type": "markdown",
   "id": "95009f5d",
   "metadata": {},
   "source": [
    "Quantum process tomography is the procedure to "
   ]
  },
  {
   "cell_type": "code",
   "execution_count": 24,
   "id": "719c9f00",
   "metadata": {},
   "outputs": [],
   "source": [
    "backend='ibmq_lima'\n",
    "quamtum_computer= provider.get_backend(backend)"
   ]
  },
  {
   "cell_type": "code",
   "execution_count": 25,
   "id": "051d4677",
   "metadata": {},
   "outputs": [],
   "source": [
    "qpt_circs = process_tomography_circuits(trans_qc,q[1],prepared_qubits=q[1])"
   ]
  },
  {
   "cell_type": "code",
   "execution_count": 26,
   "id": "2449500a",
   "metadata": {},
   "outputs": [
    {
     "name": "stdout",
     "output_type": "stream",
     "text": [
      "Job Status: job incurred error     \n"
     ]
    }
   ],
   "source": [
    "job = execute(qpt_circs,backend=quamtum_computer, shots=10000)\n",
    "\n",
    "job_monitor(job)"
   ]
  },
  {
   "cell_type": "code",
   "execution_count": 2,
   "id": "c1042bf0",
   "metadata": {},
   "outputs": [],
   "source": [
    "# qpt_tomo_comp = ProcessTomographyFitter(job.result(), qpt_circs)"
   ]
  },
  {
   "cell_type": "markdown",
   "id": "1fa05cdd",
   "metadata": {},
   "source": [
    "Unfortunately the used IBM 5-qubit computers don not support unitary gates controlled by bits. To overcome this and still prove the concept, we use the principle of [deferred measurement](https://en.wikipedia.org/wiki/Deferred_Measurement_Principle). This is, basically we will use a quantum bit as a classical bit, but to avoid unnecessary operations (for instance a SWAP to always use the same qubit as classical qubit), we simply use the first environmental qubit as a quantum control for the second stage."
   ]
  },
  {
   "cell_type": "markdown",
   "id": "07d59525",
   "metadata": {},
   "source": [
    "# Implementing a singular channel using only the decomposition with 3 qubits"
   ]
  },
  {
   "cell_type": "markdown",
   "id": "28d078f8",
   "metadata": {},
   "source": [
    "In the following I construct a circuit that implements the following singular channel in the qubit $0$: \n",
    "$$\\left(\n",
    "\\begin{array}{cccc}\n",
    " 1 & 0 & 0 & 0 \\\\\n",
    " 0 & 0 & 0 & 0 \\\\\n",
    " 0 & 0 & 0  & 0 \\\\\n",
    " 0 & 0 & 0 & \\lambda  \\\\\n",
    "\\end{array}\n",
    "\\right)$$\n",
    "The channel is written in the Pauli basis $1/\\sqrt{2}\\{\\mathbb{1},\\sigma_x,\\sigma_y,\\sigma_z \\}$.\n",
    "\n",
    "In this example we made use only of the __Lindblad-Boundary__ decomposition, and not of the advantage of the ancilla size reduction, as we need anyway three qubits to initialize properly the second ancilla."
   ]
  },
  {
   "cell_type": "code",
   "execution_count": 19,
   "id": "012c85a2",
   "metadata": {},
   "outputs": [],
   "source": [
    "U=[[0,0,1,0],\n",
    "   [0,1,0,0],\n",
    "   [1,0,0,0],\n",
    "   [0,0,0,1]\n",
    "  ]\n",
    "l=0.75\n",
    "gm=(1-l)**0.5/(2**0.5)\n",
    "gp=(1+l)**0.5/(2**0.5)\n",
    "U2=[[0,gm,0,-gp],\n",
    "   [gm,0,-gp,0],\n",
    "   [gp,0,gm,0],\n",
    "    [0,gp,0,gm]]\n",
    "U3=[[0,-gp,0,gm],\n",
    "   [-gp,0,gm,0],\n",
    "   [gm,0,gp,0],\n",
    "     [0,gm,0,gp]]"
   ]
  },
  {
   "cell_type": "code",
   "execution_count": 20,
   "id": "5ad625fb",
   "metadata": {},
   "outputs": [
    {
     "data": {
      "image/png": "[encoded data removed]",
      "text/plain": [
       "<Figure size 293.74x204.68 with 1 Axes>"
      ]
     },
     "execution_count": 20,
     "metadata": {},
     "output_type": "execute_result"
    }
   ],
   "source": [
    "q = QuantumRegister(3)\n",
    "qc=QuantumCircuit(q)\n",
    "qc.unitary(U,[0,1],'$U_{boundary}$')\n",
    "#qc.cnot([1],[2])\n",
    "qc.unitary(U2,[0,2],label='$U_{e^{\\mathcal{L}}}$')\n",
    "#cU1=qc1.to_gate(label='$U_{e^{\\mathcal{L}}}$').control(1,ctrl_state=0)\n",
    "qc.draw('mpl')"
   ]
  },
  {
   "cell_type": "markdown",
   "id": "fea05155",
   "metadata": {},
   "source": [
    "### Quantum process tomography"
   ]
  },
  {
   "cell_type": "code",
   "execution_count": 9,
   "id": "c2c79c44",
   "metadata": {},
   "outputs": [],
   "source": [
    "backend='ibmq_quito'\n",
    "quamtum_computer= provider.get_backend(backend)"
   ]
  },
  {
   "cell_type": "code",
   "execution_count": 10,
   "id": "cf6d905a",
   "metadata": {},
   "outputs": [],
   "source": [
    "qpt_circs = process_tomography_circuits(qc,q[0],prepared_qubits=q[0])"
   ]
  },
  {
   "cell_type": "code",
   "execution_count": 17,
   "id": "deecdbe2",
   "metadata": {},
   "outputs": [
    {
     "name": "stdout",
     "output_type": "stream",
     "text": [
      "0\n",
      "Job Status: job has successfully run\n",
      "1\n",
      "Job Status: job has successfully run\n"
     ]
    }
   ],
   "source": [
    "#joblist2dec=[]\n",
    "for i in range(2):\n",
    "    job = execute(qpt_circs,backend=quamtum_computer, shots=20000)\n",
    "    print(i)\n",
    "    job_monitor(job)\n",
    "    joblist2dec.append(job)"
   ]
  },
  {
   "cell_type": "code",
   "execution_count": 22,
   "id": "17cc6e79",
   "metadata": {},
   "outputs": [],
   "source": [
    "chois2dec=list(map(lambda r: ProcessTomographyFitter(r.result(), qpt_circs).fit(),joblist2dec))\n",
    "chois2dec=list(map(np.array,chois2dec))"
   ]
  },
  {
   "cell_type": "code",
   "execution_count": 23,
   "id": "40c87807",
   "metadata": {},
   "outputs": [
    {
     "data": {
      "text/plain": [
       "10"
      ]
     },
     "execution_count": 23,
     "metadata": {},
     "output_type": "execute_result"
    }
   ],
   "source": [
    "len(chois2dec)"
   ]
  },
  {
   "cell_type": "code",
   "execution_count": 24,
   "id": "dd035b1c",
   "metadata": {},
   "outputs": [],
   "source": [
    "theoreticalchoi2=np.diag(0.5*np.array([1+l,1-l,1-l,1+l]))"
   ]
  },
  {
   "cell_type": "code",
   "execution_count": 56,
   "id": "1791d4b7",
   "metadata": {},
   "outputs": [
    {
     "data": {
      "text/plain": [
       "[(0.9954003619482998-4.641032297039247e-17j),\n",
       " (0.9954523398087629+1.0583556077116377e-16j),\n",
       " (0.9954946833967737+8.670254628915249e-18j),\n",
       " (0.9945802870424951-2.591866064307436e-18j),\n",
       " (0.995786608881142-4.3296638177119495e-18j),\n",
       " (0.9957938191980285-5.89964658838384e-17j),\n",
       " (0.9951553629686074-1.3882969924388075e-17j),\n",
       " (0.9958287428952262+1.735170158520008e-17j),\n",
       " (0.9957487234906935-1.3122264250580849e-17j),\n",
       " (0.9956884195241263-5.205371523413456e-18j)]"
      ]
     },
     "execution_count": 56,
     "metadata": {},
     "output_type": "execute_result"
    }
   ],
   "source": [
    "fidelities2dec"
   ]
  },
  {
   "cell_type": "code",
   "execution_count": 25,
   "id": "1e6e0c61",
   "metadata": {},
   "outputs": [],
   "source": [
    "fidelities2dec=[]\n",
    "for k in chois2dec:\n",
    "    fidelities2dec.append(trace(sqrtm(multi_dot([sqrtm(theoreticalchoi2),k,sqrtm(theoreticalchoi2)])))/2)"
   ]
  },
  {
   "cell_type": "code",
   "execution_count": 26,
   "id": "42ce50f9",
   "metadata": {},
   "outputs": [
    {
     "data": {
      "image/png": "[encoded data removed]",
      "text/plain": [
       "<Figure size 432x288 with 1 Axes>"
      ]
     },
     "metadata": {
      "needs_background": "light"
     },
     "output_type": "display_data"
    }
   ],
   "source": [
    "plt.boxplot(np.real(fidelities2dec))\n",
    "plt.show()"
   ]
  },
  {
   "cell_type": "code",
   "execution_count": 30,
   "id": "2e539413",
   "metadata": {},
   "outputs": [],
   "source": [
    "#import csv\n",
    "#b = open('chois2dec.csv', 'w')\n",
    "#a = csv.writer(b)\n",
    "#a.writerows(chois2dec)\n",
    "#b.close()"
   ]
  },
  {
   "cell_type": "markdown",
   "id": "5e6059e1",
   "metadata": {},
   "source": [
    "# Using deferred measurement and effectively only 2 qubits (unnecessarily complicated circuit controlling two unitaries, just to see how it works)"
   ]
  },
  {
   "cell_type": "markdown",
   "id": "8fd152e1",
   "metadata": {},
   "source": [
    "In the following I construct a circuit that implements the following singular channel in the qubit $0$: \n",
    "$$\\left(\n",
    "\\begin{array}{cccc}\n",
    " 1 & 0 & 0 & 0 \\\\\n",
    " 0 & 0 & 0 & 0 \\\\\n",
    " 0 & 0 & 0  & 0 \\\\\n",
    " 0 & 0 & 0 & \\lambda  \\\\\n",
    "\\end{array}\n",
    "\\right)$$\n",
    "The channel is written in the Pauli basis $1/\\sqrt{2}\\{\\mathbb{1},\\sigma_x,\\sigma_y,\\sigma_z \\}$.\n",
    "\n",
    "In this case we do not only make use of the __Lindblad-Boundary__ decomposition, but also of the register size reduction. We use the __deferred measurement__ and __implicit measurement__ principles."
   ]
  },
  {
   "cell_type": "code",
   "execution_count": 6,
   "id": "7f935f78",
   "metadata": {},
   "outputs": [],
   "source": [
    "U=[[0,0,1,0],\n",
    "   [0,1,0,0],\n",
    "   [1,0,0,0],\n",
    "   [0,0,0,1]\n",
    "  ]\n",
    "l=0.75\n",
    "gm=(1-l)**0.5/(2**0.5)\n",
    "gp=(1+l)**0.5/(2**0.5)\n",
    "U2=[[0,gm,0,-gp],\n",
    "   [gm,0,-gp,0],\n",
    "   [gp,0,gm,0],\n",
    "    [0,gp,0,gm]]\n",
    "U3=[[0,-gp,0,gm],\n",
    "   [-gp,0,gm,0],\n",
    "   [gm,0,gp,0],\n",
    "     [0,gm,0,gp]]"
   ]
  },
  {
   "cell_type": "code",
   "execution_count": 7,
   "id": "6379ef79",
   "metadata": {},
   "outputs": [
    {
     "data": {
      "image/png": "[encoded data removed]",
      "text/plain": [
       "<Figure size 146.652x144.48 with 1 Axes>"
      ]
     },
     "execution_count": 7,
     "metadata": {},
     "output_type": "execute_result"
    }
   ],
   "source": [
    "qc1=QuantumCircuit(2)\n",
    "qc1.unitary(U2,[0,1],'$U_{e^{\\mathcal{L}}}$')\n",
    "qc2=QuantumCircuit(2)\n",
    "qc2.unitary(U3,[0,1],'$U{\\prime}_{e^{\\mathcal{L}}}$')\n",
    "qc2.draw('mpl')"
   ]
  },
  {
   "cell_type": "markdown",
   "id": "f2d03406",
   "metadata": {},
   "source": [
    "In the following, the third qubit is used as a classical qubit due to the fact that the quantum computer used does not support classically controlled unitary gates.\n",
    "\n",
    "Therefore, we use a CNOT gate to change the state of the third qubit according to the final environmental state"
   ]
  },
  {
   "cell_type": "code",
   "execution_count": 8,
   "id": "6dd84316",
   "metadata": {},
   "outputs": [
    {
     "data": {
      "image/png": "[encoded data removed]",
      "text/plain": [
       "<Figure size 400.578x204.68 with 1 Axes>"
      ]
     },
     "execution_count": 8,
     "metadata": {},
     "output_type": "execute_result"
    }
   ],
   "source": [
    "q = QuantumRegister(3)\n",
    "qc=QuantumCircuit(q)\n",
    "qc.unitary(U,[0,1],'$U_{boundary}$')\n",
    "qc.cnot([1],[2])\n",
    "cU1=qc1.to_gate(label='$U_{e^{\\mathcal{L}}}$').control(1,ctrl_state=0)\n",
    "qc.append(cU1,[2,0,1])\n",
    "cU2=qc2.to_gate(label='$U{\\prime}_{e^{\\mathcal{L}}}$').control(1,ctrl_state=1)\n",
    "qc.append(cU2,[2,0,1])\n",
    "qc.draw('mpl')\n",
    "#cU1=qc1.to_gate(label='$U_{e^{\\mathcal{L}}}$').control(1,ctrl_state=0)"
   ]
  },
  {
   "cell_type": "code",
   "execution_count": 17,
   "id": "e9075f88",
   "metadata": {},
   "outputs": [],
   "source": [
    "qctrans=transpile(qc,optimization_level=3)"
   ]
  },
  {
   "cell_type": "code",
   "execution_count": 18,
   "id": "708810c5",
   "metadata": {},
   "outputs": [
    {
     "data": {
      "image/png": "[encoded data removed]",
      "text/plain": [
       "<Figure size 1604.58x445.48 with 1 Axes>"
      ]
     },
     "execution_count": 18,
     "metadata": {},
     "output_type": "execute_result"
    }
   ],
   "source": [
    "qctrans.draw('mpl')"
   ]
  },
  {
   "cell_type": "markdown",
   "id": "84ef25f1",
   "metadata": {},
   "source": [
    "### Quantum process tomography"
   ]
  },
  {
   "cell_type": "code",
   "execution_count": 10,
   "id": "d82cce73",
   "metadata": {},
   "outputs": [],
   "source": [
    "backend='ibmq_lima'\n",
    "quamtum_computer= provider.get_backend(backend)"
   ]
  },
  {
   "cell_type": "code",
   "execution_count": 11,
   "id": "abe6df2a",
   "metadata": {},
   "outputs": [],
   "source": [
    "qpt_circs = process_tomography_circuits(qc,q[0],prepared_qubits=q[0])"
   ]
  },
  {
   "cell_type": "code",
   "execution_count": null,
   "id": "aed455ac",
   "metadata": {
    "scrolled": true
   },
   "outputs": [],
   "source": [
    "joblist2=[]\n",
    "for i in range(10):\n",
    "    job = execute(qpt_circs,backend=quamtum_computer, shots=20000)\n",
    "    print(i)\n",
    "    job_monitor(job)\n",
    "    joblist2.append(job)"
   ]
  },
  {
   "cell_type": "code",
   "execution_count": 51,
   "id": "f0d373fd",
   "metadata": {},
   "outputs": [],
   "source": [
    "theoreticalchoi2=np.diag(0.5*np.array([1+l,1-l,1-l,1+l]))"
   ]
  },
  {
   "cell_type": "code",
   "execution_count": 47,
   "id": "5c77637f",
   "metadata": {},
   "outputs": [
    {
     "data": {
      "text/plain": [
       "4"
      ]
     },
     "execution_count": 47,
     "metadata": {},
     "output_type": "execute_result"
    }
   ],
   "source": [
    "chois2=list(map(lambda r: ProcessTomographyFitter(r.result(), qpt_circs).fit(),joblist2))\n",
    "chois2=list(map(np.array,chois2))\n",
    "len(chois2)"
   ]
  },
  {
   "cell_type": "code",
   "execution_count": 49,
   "id": "8d937f66",
   "metadata": {},
   "outputs": [
    {
     "data": {
      "text/plain": [
       "array([[ 0.7+0.j ,  0.1-0.1j, -0. -0.j , -0. +0.j ],\n",
       "       [ 0.1+0.1j,  0.3+0.j ,  0.2+0.j ,  0. +0.j ],\n",
       "       [-0. +0.j ,  0.2-0.j ,  0.4+0.j , -0.1-0.j ],\n",
       "       [-0. -0.j ,  0. -0.j , -0.1+0.j ,  0.6+0.j ]])"
      ]
     },
     "execution_count": 49,
     "metadata": {},
     "output_type": "execute_result"
    }
   ],
   "source": [
    "np.round(chois2[3],1)"
   ]
  },
  {
   "cell_type": "code",
   "execution_count": 58,
   "id": "9e92fcff",
   "metadata": {},
   "outputs": [],
   "source": [
    "fidelities2=[]\n",
    "for k in chois2:\n",
    "    fidelities2.append(trace(sqrtm(multi_dot([sqrtm(theoreticalchoi2),k,sqrtm(theoreticalchoi2)])))/2)"
   ]
  },
  {
   "cell_type": "markdown",
   "id": "e77348b5",
   "metadata": {},
   "source": [
    "First bunch of fidelities"
   ]
  },
  {
   "cell_type": "code",
   "execution_count": 57,
   "id": "ba4ebfe8",
   "metadata": {},
   "outputs": [
    {
     "data": {
      "text/plain": [
       "[(0.96988773459573+2.4363251288173247e-17j),\n",
       " (0.9673439505668706+1.0383621470586337e-17j),\n",
       " (0.9706917461535958-1.2119049077468252e-17j),\n",
       " (0.9731782805614134-2.783637732144719e-17j),\n",
       " (0.9793223008532475+1.0427513507551162e-16j),\n",
       " (0.9746951654415983-3.7495441301597173e-17j),\n",
       " (0.9620702614671094+5.192001045082164e-18j),\n",
       " (0.9728893029934645-2.2608107114385593e-17j),\n",
       " (0.96580200683517-3.3476691079544817e-17j),\n",
       " (0.960841071237759-1.6434684432783862e-17j),\n",
       " (0.9612494302754113-2.5850421102322812e-17j)]"
      ]
     },
     "execution_count": 57,
     "metadata": {},
     "output_type": "execute_result"
    }
   ],
   "source": [
    "fidelities2"
   ]
  },
  {
   "cell_type": "markdown",
   "id": "c6d13046",
   "metadata": {},
   "source": [
    "Second bunch of fidelities"
   ]
  },
  {
   "cell_type": "code",
   "execution_count": 59,
   "id": "86d7fa20",
   "metadata": {},
   "outputs": [
    {
     "data": {
      "text/plain": [
       "[(0.9649689559610533+1.7115800995250324e-17j),\n",
       " (0.9731194781888718-4.52873917725153e-17j),\n",
       " (0.9540497186084765+4.139635320924562e-18j),\n",
       " (0.9430663799823709+6.950716091685994e-17j)]"
      ]
     },
     "execution_count": 59,
     "metadata": {},
     "output_type": "execute_result"
    }
   ],
   "source": [
    "fidelities2"
   ]
  },
  {
   "cell_type": "markdown",
   "id": "3082c058",
   "metadata": {},
   "source": [
    "Third bunch of fidelities"
   ]
  },
  {
   "cell_type": "code",
   "execution_count": null,
   "id": "44bf1521",
   "metadata": {},
   "outputs": [],
   "source": [
    "fidelities2"
   ]
  },
  {
   "cell_type": "code",
   "execution_count": 83,
   "id": "990e06d9",
   "metadata": {},
   "outputs": [
    {
     "data": {
      "image/png": "[encoded data removed]",
      "text/plain": [
       "<Figure size 432x288 with 1 Axes>"
      ]
     },
     "metadata": {
      "needs_background": "light"
     },
     "output_type": "display_data"
    }
   ],
   "source": [
    "plt.boxplot(np.real(fidelities2))\n",
    "plt.show()"
   ]
  },
  {
   "cell_type": "markdown",
   "id": "ec691422",
   "metadata": {},
   "source": [
    "# Using deferred measurement and effectively only 2 qubits (simpler circuit)"
   ]
  },
  {
   "cell_type": "markdown",
   "id": "51a42322",
   "metadata": {},
   "source": [
    "In the following I construct a circuit that implements the following singular channel in the qubit $0$: \n",
    "$$\\left(\n",
    "\\begin{array}{cccc}\n",
    " 1 & 0 & 0 & 0 \\\\\n",
    " 0 & 0 & 0 & 0 \\\\\n",
    " 0 & 0 & 0  & 0 \\\\\n",
    " 0 & 0 & 0 & \\lambda  \\\\\n",
    "\\end{array}\n",
    "\\right)$$\n",
    "The channel is written in the Pauli basis $1/\\sqrt{2}\\{\\mathbb{1},\\sigma_x,\\sigma_y,\\sigma_z \\}$.\n",
    "\n",
    "In this case we do not only make use of the __Lindblad-Boundary__ decomposition, but also of the register size reduction. We use the __deferred measurement__ and __implicit measurement__ principles."
   ]
  },
  {
   "cell_type": "code",
   "execution_count": 6,
   "id": "df871203",
   "metadata": {},
   "outputs": [],
   "source": [
    "U=[[0,0,1,0],\n",
    "   [0,1,0,0],\n",
    "   [1,0,0,0],\n",
    "   [0,0,0,1]\n",
    "  ]\n",
    "l=0.75\n",
    "gm=(1-l)**0.5/(2**0.5)\n",
    "gp=(1+l)**0.5/(2**0.5)\n",
    "U2=[[0,gm,0,-gp],\n",
    "   [gm,0,-gp,0],\n",
    "   [gp,0,gm,0],\n",
    "    [0,gp,0,gm]]\n",
    "U3=[[0,-gp,0,gm],\n",
    "   [-gp,0,gm,0],\n",
    "   [gm,0,gp,0],\n",
    "     [0,gm,0,gp]]"
   ]
  },
  {
   "cell_type": "markdown",
   "id": "487b741f",
   "metadata": {},
   "source": [
    "In the following, the third qubit is used as a classical qubit due to the fact that the quantum computer used does not support classically controlled unitary gates.\n",
    "\n",
    "Therefore, we use a CNOT gate to change the state of the third qubit according to the final environmental state"
   ]
  },
  {
   "cell_type": "code",
   "execution_count": 7,
   "id": "8ca951b4",
   "metadata": {},
   "outputs": [
    {
     "data": {
      "image/png": "[encoded data removed]",
      "text/plain": [
       "<Figure size 400.578x204.68 with 1 Axes>"
      ]
     },
     "execution_count": 7,
     "metadata": {},
     "output_type": "execute_result"
    }
   ],
   "source": [
    "q = QuantumRegister(3)\n",
    "qc=QuantumCircuit(q)\n",
    "qc.unitary(U,[0,1],'$U_{boundary}$')\n",
    "qc.cnot([1],[2])\n",
    "qc.cnot([2],[1])\n",
    "qc.unitary(U2,[0,1],'$U_{e^{\\mathcal{L}}}$')\n",
    "qc.draw('mpl')\n",
    "#cU1=qc1.to_gate(label='$U_{e^{\\mathcal{L}}}$').control(1,ctrl_state=0)"
   ]
  },
  {
   "cell_type": "markdown",
   "id": "463a3600",
   "metadata": {},
   "source": [
    "### Quantum process tomography"
   ]
  },
  {
   "cell_type": "code",
   "execution_count": 56,
   "id": "e7096b64",
   "metadata": {},
   "outputs": [],
   "source": [
    "backend='ibmq_lima'\n",
    "quamtum_computer= provider.get_backend(backend)"
   ]
  },
  {
   "cell_type": "code",
   "execution_count": 57,
   "id": "ab83fc9c",
   "metadata": {},
   "outputs": [],
   "source": [
    "qpt_circs = process_tomography_circuits(qc,q[0],prepared_qubits=q[0])"
   ]
  },
  {
   "cell_type": "code",
   "execution_count": null,
   "id": "b653c596",
   "metadata": {
    "scrolled": true
   },
   "outputs": [
    {
     "name": "stdout",
     "output_type": "stream",
     "text": [
      "0\n",
      "Job Status: job is queued (20)    "
     ]
    }
   ],
   "source": [
    "#joblist2=[]\n",
    "for i in range(10):\n",
    "    job = execute(qpt_circs,backend=quamtum_computer, shots=20000)\n",
    "    print(i)\n",
    "    job_monitor(job)\n",
    "    joblist2.append(job)"
   ]
  },
  {
   "cell_type": "code",
   "execution_count": 48,
   "id": "53e50f5a",
   "metadata": {},
   "outputs": [],
   "source": [
    "theoreticalchoi2=np.diag(0.5*np.array([1+l,1-l,1-l,1+l]))"
   ]
  },
  {
   "cell_type": "code",
   "execution_count": 49,
   "id": "f1673472",
   "metadata": {},
   "outputs": [
    {
     "data": {
      "text/plain": [
       "10"
      ]
     },
     "execution_count": 49,
     "metadata": {},
     "output_type": "execute_result"
    }
   ],
   "source": [
    "chois2=list(map(lambda r: ProcessTomographyFitter(r.result(), qpt_circs).fit(),joblist2))\n",
    "chois2=list(map(np.array,chois2))\n",
    "len(chois2)"
   ]
  },
  {
   "cell_type": "code",
   "execution_count": 49,
   "id": "bf15ec78",
   "metadata": {},
   "outputs": [
    {
     "data": {
      "text/plain": [
       "array([[ 0.7+0.j ,  0.1-0.1j, -0. -0.j , -0. +0.j ],\n",
       "       [ 0.1+0.1j,  0.3+0.j ,  0.2+0.j ,  0. +0.j ],\n",
       "       [-0. +0.j ,  0.2-0.j ,  0.4+0.j , -0.1-0.j ],\n",
       "       [-0. -0.j ,  0. -0.j , -0.1+0.j ,  0.6+0.j ]])"
      ]
     },
     "execution_count": 49,
     "metadata": {},
     "output_type": "execute_result"
    }
   ],
   "source": [
    "np.round(chois2[3],1)"
   ]
  },
  {
   "cell_type": "code",
   "execution_count": 50,
   "id": "6b2ab59d",
   "metadata": {},
   "outputs": [],
   "source": [
    "fidelities2=[]\n",
    "for k in chois2:\n",
    "    fidelities2.append(trace(sqrtm(multi_dot([sqrtm(theoreticalchoi2),k,sqrtm(theoreticalchoi2)])))/2)"
   ]
  },
  {
   "cell_type": "code",
   "execution_count": 52,
   "id": "d0e808dc",
   "metadata": {},
   "outputs": [
    {
     "data": {
      "text/plain": [
       "array([[ 0.87815 +0.j      ,  0.0104  -0.03035j ,  0.001725-0.040975j,\n",
       "         0.0119  -0.011j   ],\n",
       "       [ 0.0104  +0.03035j ,  0.12185 +0.j      , -0.0066  -0.0091j  ,\n",
       "        -0.001725+0.040975j],\n",
       "       [ 0.001725+0.040975j, -0.0066  +0.0091j  ,  0.1649  +0.j      ,\n",
       "         0.0046  +0.00495j ],\n",
       "       [ 0.0119  +0.011j   , -0.001725-0.040975j,  0.0046  -0.00495j ,\n",
       "         0.8351  +0.j      ]])"
      ]
     },
     "execution_count": 52,
     "metadata": {},
     "output_type": "execute_result"
    }
   ],
   "source": [
    "chois2[1]"
   ]
  },
  {
   "cell_type": "markdown",
   "id": "1e117ecd",
   "metadata": {},
   "source": [
    "First bunch of fidelities"
   ]
  },
  {
   "cell_type": "code",
   "execution_count": 51,
   "id": "da137411",
   "metadata": {},
   "outputs": [
    {
     "data": {
      "text/plain": [
       "[(0.9977811302434743+6.245846924318826e-17j),\n",
       " (0.9979512319727428+6.245373310050654e-17j),\n",
       " (0.9981040089169582-7.98293433432561e-17j),\n",
       " (0.9974170359037349-1.2149154054422256e-16j),\n",
       " (0.9971635306336362+3.4724722221161965e-17j),\n",
       " (0.9975915892041071+6.423604834872988e-17j),\n",
       " (0.997674513635429-5.3782264596977516e-17j),\n",
       " (0.9973184022920231-3.7740811015075004e-17j),\n",
       " (0.9973848897718072-7.982758482976066e-17j),\n",
       " (0.9981296207795207+7.46043197285274e-17j)]"
      ]
     },
     "execution_count": 51,
     "metadata": {},
     "output_type": "execute_result"
    }
   ],
   "source": [
    "fidelities2"
   ]
  },
  {
   "cell_type": "code",
   "execution_count": 60,
   "id": "6fe1950b",
   "metadata": {},
   "outputs": [
    {
     "data": {
      "image/png": "[encoded data removed]",
      "text/plain": [
       "<Figure size 432x288 with 1 Axes>"
      ]
     },
     "metadata": {
      "needs_background": "light"
     },
     "output_type": "display_data"
    }
   ],
   "source": [
    "plt.boxplot(np.real(fidelities2))\n",
    "plt.show()"
   ]
  }
 ],
 "metadata": {
  "kernelspec": {
   "display_name": "Python 3 (ipykernel)",
   "language": "python",
   "name": "python3"
  },
  "language_info": {
   "codemirror_mode": {
    "name": "ipython",
    "version": 3
   },
   "file_extension": ".py",
   "mimetype": "text/x-python",
   "name": "python",
   "nbconvert_exporter": "python",
   "pygments_lexer": "ipython3",
   "version": "3.8.13"
  }
 },
 "nbformat": 4,
 "nbformat_minor": 5
}
