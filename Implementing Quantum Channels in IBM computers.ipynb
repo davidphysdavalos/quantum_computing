{
 "cells": [
  {
   "cell_type": "markdown",
   "id": "9f909144",
   "metadata": {},
   "source": [
    "# Implementing quantum channels in a quantum computer using smaller registers"
   ]
  },
  {
   "cell_type": "markdown",
   "id": "80ce9f45",
   "metadata": {},
   "source": [
    "__Implementation of quantum channels using smaller ancillas (i.e. a smaller quantum register) by factorizing the target quantum channel in Kraus deficient channels__\n",
    "\n",
    "In this notebook I constructed quantum circuits to simulate two singular quantum channels using a register size smaller than the one dictated by the [__Stinespring theorem__](https://www.quantiki.org/wiki/church-larger-hilbert-space). For qubit channels, the environment \n",
    "\n",
    "$$\\mathcal{E}[\\rho]=\\sum_{i=1}^{d^2}{K_i \\rho K_i^\\dagger{}}$$\n",
    "\n",
    "<img src=\"images/circuit.jpeg\" width=\"400\" class=\"center\">"
   ]
  },
  {
   "cell_type": "markdown",
   "id": "edcb8144",
   "metadata": {
    "heading_collapsed": true
   },
   "source": [
    "## Functions and libraries needed"
   ]
  },
  {
   "cell_type": "code",
   "execution_count": 1,
   "id": "8c4667e2",
   "metadata": {
    "hidden": true
   },
   "outputs": [],
   "source": [
    "# Importing libraries for the construction of the quantum circuit\n",
    "from qiskit import QuantumCircuit, transpile, ClassicalRegister, QuantumRegister, execute\n",
    "# Importing also numpy, will be needed later\n",
    "import numpy as np\n",
    "from qiskit.providers.ibmq import least_busy"
   ]
  },
  {
   "cell_type": "code",
   "execution_count": 2,
   "id": "79b5e19b",
   "metadata": {
    "hidden": true
   },
   "outputs": [],
   "source": [
    "#Loading account\n",
    "from qiskit import IBMQ\n",
    "IBMQ.load_account()\n",
    "provider = IBMQ.get_provider('ibm-q')"
   ]
  },
  {
   "cell_type": "code",
   "execution_count": 3,
   "id": "9f234b35",
   "metadata": {
    "hidden": true
   },
   "outputs": [
    {
     "name": "stderr",
     "output_type": "stream",
     "text": [
      "/tmp/ipykernel_673875/3764712384.py:2: DeprecationWarning: The qiskit.ignis package is deprecated and has been supersceded by the qiskit-experiments project. Refer to the migration guide: https://github.com/Qiskit/qiskit-ignis#migration-guide on how to migrate to the new project.\n",
      "  from qiskit.ignis.verification.tomography import state_tomography_circuits, StateTomographyFitter\n"
     ]
    }
   ],
   "source": [
    "# Tomography functions\n",
    "from qiskit.ignis.verification.tomography import state_tomography_circuits, StateTomographyFitter\n",
    "from qiskit.ignis.verification.tomography import process_tomography_circuits, ProcessTomographyFitter\n",
    "from qiskit.ignis.verification.tomography import gateset_tomography_circuits, GatesetTomographyFitter\n",
    "from qiskit.tools.monitor import job_monitor"
   ]
  },
  {
   "cell_type": "markdown",
   "id": "9cd0fc2a",
   "metadata": {
    "hidden": true
   },
   "source": [
    "In order to compute how close is the implemented to the theoretical one, we compute the fidelity among them."
   ]
  },
  {
   "cell_type": "code",
   "execution_count": 4,
   "id": "bdfc03f1",
   "metadata": {
    "hidden": true
   },
   "outputs": [],
   "source": [
    "#Fidelity\n",
    "from qiskit.quantum_info import state_fidelity\n",
    "from qiskit.quantum_info.states import quantum_state"
   ]
  },
  {
   "cell_type": "code",
   "execution_count": 5,
   "id": "f058fd0d",
   "metadata": {
    "hidden": true
   },
   "outputs": [],
   "source": [
    "#Linear Algebra functions\n",
    "from numpy import dot, trace\n",
    "from numpy.linalg import matrix_power, multi_dot\n",
    "from scipy.linalg import sqrtm"
   ]
  },
  {
   "cell_type": "code",
   "execution_count": 6,
   "id": "631c979e",
   "metadata": {
    "hidden": true
   },
   "outputs": [],
   "source": [
    "#Plotting functions\n",
    "import matplotlib.pyplot as plt"
   ]
  },
  {
   "cell_type": "markdown",
   "id": "31a91f1f",
   "metadata": {
    "heading_collapsed": true
   },
   "source": [
    "## Constructing circuits for the implementation of total depolarizing channel"
   ]
  },
  {
   "cell_type": "code",
   "execution_count": 11,
   "id": "5b52e175",
   "metadata": {
    "hidden": true
   },
   "outputs": [],
   "source": [
    "#Define the same uniteries as in the last section just to ilustrate.\n",
    "U=[[0,0,0,1],\n",
    "   [0,1,0,0],\n",
    "   [0,0,1,0],\n",
    "   [1,0,0,0]\n",
    "  ]\n",
    "U2=[[1,0,0,0],\n",
    "   [0,2**-0.5,2**-0.5,0],\n",
    "   [0,2**-0.5,-2**-0.5,0],\n",
    "    [0,0,0,1]\n",
    "   ]\n",
    "U3=[[0,0,1,0],\n",
    "   [2**-0.5,0,0,2**-0.5],\n",
    "   [-2**-0.5,0,0,2**-0.5],\n",
    "    [0,1,0,0]\n",
    "   ]"
   ]
  },
  {
   "cell_type": "code",
   "execution_count": 12,
   "id": "b7146a74",
   "metadata": {
    "hidden": true
   },
   "outputs": [],
   "source": [
    "#Creation of quantum and classical registers and putting them together\n",
    "q = QuantumRegister(2)\n",
    "c = ClassicalRegister(1)\n",
    "qc=QuantumCircuit(q,c)"
   ]
  },
  {
   "cell_type": "markdown",
   "id": "b43d8f1b",
   "metadata": {
    "hidden": true
   },
   "source": [
    "I define below the unitaries that are going to implement each part of our channel"
   ]
  },
  {
   "cell_type": "code",
   "execution_count": 13,
   "id": "fdf091f5",
   "metadata": {
    "hidden": true
   },
   "outputs": [
    {
     "data": {
      "text/plain": [
       "<qiskit.circuit.instructionset.InstructionSet at 0x7f6d431c7200>"
      ]
     },
     "execution_count": 13,
     "metadata": {},
     "output_type": "execute_result"
    }
   ],
   "source": [
    "qc.unitary(U,[0,1],'$U_{boundary}$')\n",
    "qc.measure(0,0)\n",
    "qc.unitary(U2,[0,1],'$U_{e^{\\mathcal{L}}}$').c_if(c, 0)\n",
    "qc.unitary(U3,[0,1],'$U{\\prime}_{e^{\\mathcal{L}}}$').c_if(c, 1)"
   ]
  },
  {
   "cell_type": "code",
   "execution_count": 14,
   "id": "d6539646",
   "metadata": {
    "hidden": true
   },
   "outputs": [
    {
     "data": {
      "image/png": "[encoded data removed]",
      "text/plain": [
       "<Figure size 400.723x204.68 with 1 Axes>"
      ]
     },
     "execution_count": 14,
     "metadata": {},
     "output_type": "execute_result"
    }
   ],
   "source": [
    "qc.draw('mpl')"
   ]
  },
  {
   "cell_type": "markdown",
   "id": "e521e99d",
   "metadata": {
    "hidden": true
   },
   "source": [
    "_Transpiling_ the circuit so that it can be implemented in the quantum computer. This process is made by IBM anyway."
   ]
  },
  {
   "cell_type": "code",
   "execution_count": 15,
   "id": "a539b7db",
   "metadata": {
    "hidden": true
   },
   "outputs": [],
   "source": [
    "trans_qc=transpile(qc,basis_gates=['cx','u3','u','cz'],optimization_level=3)"
   ]
  },
  {
   "cell_type": "code",
   "execution_count": 16,
   "id": "73fef18a",
   "metadata": {
    "hidden": true
   },
   "outputs": [
    {
     "data": {
      "image/png": "[encoded data removed]",
      "text/plain": [
       "<Figure size 1604.72x445.48 with 1 Axes>"
      ]
     },
     "execution_count": 16,
     "metadata": {},
     "output_type": "execute_result"
    }
   ],
   "source": [
    "trans_qc.draw('mpl')"
   ]
  },
  {
   "cell_type": "markdown",
   "id": "5e61f02b",
   "metadata": {
    "hidden": true
   },
   "source": [
    "### Quantum process tomography"
   ]
  },
  {
   "cell_type": "markdown",
   "id": "60b47e96",
   "metadata": {
    "hidden": true
   },
   "source": [
    "First we start session in IBM Quantum"
   ]
  },
  {
   "cell_type": "markdown",
   "id": "95009f5d",
   "metadata": {
    "hidden": true
   },
   "source": [
    "Quantum process tomography is the procedure to "
   ]
  },
  {
   "cell_type": "code",
   "execution_count": 96,
   "id": "719c9f00",
   "metadata": {
    "hidden": true
   },
   "outputs": [],
   "source": [
    "backend='ibmq_manila'\n",
    "quamtum_computer= provider.get_backend(backend)"
   ]
  },
  {
   "cell_type": "code",
   "execution_count": 91,
   "id": "051d4677",
   "metadata": {
    "hidden": true
   },
   "outputs": [],
   "source": [
    "qpt_circs = process_tomography_circuits(trans_qc,q[1],prepared_qubits=q[1])"
   ]
  },
  {
   "cell_type": "code",
   "execution_count": 97,
   "id": "2449500a",
   "metadata": {
    "hidden": true
   },
   "outputs": [
    {
     "name": "stdout",
     "output_type": "stream",
     "text": [
      "Job Status: job incurred error     \n"
     ]
    }
   ],
   "source": [
    "job = execute(qpt_circs,backend=quamtum_computer, shots=10000)\n",
    "\n",
    "job_monitor(job)"
   ]
  },
  {
   "cell_type": "code",
   "execution_count": 2,
   "id": "c1042bf0",
   "metadata": {
    "hidden": true
   },
   "outputs": [],
   "source": [
    "# qpt_tomo_comp = ProcessTomographyFitter(job.result(), qpt_circs)"
   ]
  },
  {
   "cell_type": "markdown",
   "id": "1fa05cdd",
   "metadata": {
    "hidden": true
   },
   "source": [
    "Unfortunately the used IBM 5-qubit computers don not support unitary gates controlled by bits. To overcome this and still prove the concept, we use the principle of [deferred measurement](https://en.wikipedia.org/wiki/Deferred_Measurement_Principle). This is, basically we will use a quantum bit as a classical bit, but to avoid unnecessary operations (for instance a SWAP to always use the same qubit as classical qubit), we simply use the first environmental qubit as a quantum control for the second stage."
   ]
  },
  {
   "cell_type": "markdown",
   "id": "07d59525",
   "metadata": {
    "heading_collapsed": true
   },
   "source": [
    "# Implementing a singular channel using only the decomposition with 3 qubits"
   ]
  },
  {
   "cell_type": "code",
   "execution_count": 7,
   "id": "012c85a2",
   "metadata": {
    "hidden": true
   },
   "outputs": [],
   "source": [
    "U=[[0,0,1,0],\n",
    "   [0,1,0,0],\n",
    "   [1,0,0,0],\n",
    "   [0,0,0,1]\n",
    "  ]\n",
    "l=0.75\n",
    "gm=(1-l)**0.5/(2**0.5)\n",
    "gp=(1+l)**0.5/(2**0.5)\n",
    "U2=[[0,gm,0,-gp],\n",
    "   [gm,0,-gp,0],\n",
    "   [gp,0,gm,0],\n",
    "    [0,gp,0,gm]]\n",
    "U3=[[0,-gp,0,gm],\n",
    "   [-gp,0,gm,0],\n",
    "   [gm,0,gp,0],\n",
    "     [0,gm,0,gp]]"
   ]
  },
  {
   "cell_type": "code",
   "execution_count": 8,
   "id": "5ad625fb",
   "metadata": {
    "hidden": true
   },
   "outputs": [
    {
     "data": {
      "image/png": "[encoded data removed]",
      "text/plain": [
       "<Figure size 280.178x204.68 with 1 Axes>"
      ]
     },
     "execution_count": 8,
     "metadata": {},
     "output_type": "execute_result"
    }
   ],
   "source": [
    "q = QuantumRegister(3)\n",
    "qc=QuantumCircuit(q)\n",
    "qc.unitary(U,[0,1],'$U_{boundary}$')\n",
    "#qc.cnot([1],[2])\n",
    "qc.unitary(U2,[0,2],label='$U_{e^{\\mathcal{L}}}$')\n",
    "#cU1=qc1.to_gate(label='$U_{e^{\\mathcal{L}}}$').control(1,ctrl_state=0)\n",
    "qc.draw('mpl')"
   ]
  },
  {
   "cell_type": "markdown",
   "id": "fea05155",
   "metadata": {
    "hidden": true
   },
   "source": [
    "### Quantum process tomography"
   ]
  },
  {
   "cell_type": "code",
   "execution_count": 9,
   "id": "c2c79c44",
   "metadata": {
    "hidden": true
   },
   "outputs": [],
   "source": [
    "backend='ibmq_quito'\n",
    "quamtum_computer= provider.get_backend(backend)"
   ]
  },
  {
   "cell_type": "code",
   "execution_count": 10,
   "id": "cf6d905a",
   "metadata": {
    "hidden": true
   },
   "outputs": [],
   "source": [
    "qpt_circs = process_tomography_circuits(qc,q[0],prepared_qubits=q[0])"
   ]
  },
  {
   "cell_type": "code",
   "execution_count": 17,
   "id": "deecdbe2",
   "metadata": {
    "hidden": true
   },
   "outputs": [
    {
     "name": "stdout",
     "output_type": "stream",
     "text": [
      "0\n",
      "Job Status: job has successfully run\n",
      "1\n",
      "Job Status: job has successfully run\n"
     ]
    }
   ],
   "source": [
    "#joblist2dec=[]\n",
    "for i in range(2):\n",
    "    job = execute(qpt_circs,backend=quamtum_computer, shots=20000)\n",
    "    print(i)\n",
    "    job_monitor(job)\n",
    "    joblist2dec.append(job)"
   ]
  },
  {
   "cell_type": "code",
   "execution_count": 22,
   "id": "17cc6e79",
   "metadata": {
    "hidden": true
   },
   "outputs": [],
   "source": [
    "chois2dec=list(map(lambda r: ProcessTomographyFitter(r.result(), qpt_circs).fit(),joblist2dec))\n",
    "chois2dec=list(map(np.array,chois2dec))"
   ]
  },
  {
   "cell_type": "code",
   "execution_count": 23,
   "id": "40c87807",
   "metadata": {
    "hidden": true
   },
   "outputs": [
    {
     "data": {
      "text/plain": [
       "10"
      ]
     },
     "execution_count": 23,
     "metadata": {},
     "output_type": "execute_result"
    }
   ],
   "source": [
    "len(chois2dec)"
   ]
  },
  {
   "cell_type": "code",
   "execution_count": 24,
   "id": "dd035b1c",
   "metadata": {
    "hidden": true
   },
   "outputs": [],
   "source": [
    "theoreticalchoi2=np.diag(0.5*np.array([1+l,1-l,1-l,1+l]))"
   ]
  },
  {
   "cell_type": "code",
   "execution_count": 56,
   "id": "1791d4b7",
   "metadata": {
    "hidden": true
   },
   "outputs": [
    {
     "data": {
      "text/plain": [
       "[(0.9954003619482998-4.641032297039247e-17j),\n",
       " (0.9954523398087629+1.0583556077116377e-16j),\n",
       " (0.9954946833967737+8.670254628915249e-18j),\n",
       " (0.9945802870424951-2.591866064307436e-18j),\n",
       " (0.995786608881142-4.3296638177119495e-18j),\n",
       " (0.9957938191980285-5.89964658838384e-17j),\n",
       " (0.9951553629686074-1.3882969924388075e-17j),\n",
       " (0.9958287428952262+1.735170158520008e-17j),\n",
       " (0.9957487234906935-1.3122264250580849e-17j),\n",
       " (0.9956884195241263-5.205371523413456e-18j)]"
      ]
     },
     "execution_count": 56,
     "metadata": {},
     "output_type": "execute_result"
    }
   ],
   "source": [
    "fidelities2dec"
   ]
  },
  {
   "cell_type": "code",
   "execution_count": 25,
   "id": "1e6e0c61",
   "metadata": {
    "hidden": true
   },
   "outputs": [],
   "source": [
    "fidelities2dec=[]\n",
    "for k in chois2dec:\n",
    "    fidelities2dec.append(trace(sqrtm(multi_dot([sqrtm(theoreticalchoi2),k,sqrtm(theoreticalchoi2)])))/2)"
   ]
  },
  {
   "cell_type": "code",
   "execution_count": 26,
   "id": "42ce50f9",
   "metadata": {
    "hidden": true
   },
   "outputs": [
    {
     "data": {
      "image/png": "[encoded data removed]",
      "text/plain": [
       "<Figure size 432x288 with 1 Axes>"
      ]
     },
     "metadata": {
      "needs_background": "light"
     },
     "output_type": "display_data"
    }
   ],
   "source": [
    "plt.boxplot(np.real(fidelities2dec))\n",
    "plt.show()"
   ]
  },
  {
   "cell_type": "code",
   "execution_count": 30,
   "id": "2e539413",
   "metadata": {
    "hidden": true
   },
   "outputs": [],
   "source": [
    "#import csv\n",
    "#b = open('chois2dec.csv', 'w')\n",
    "#a = csv.writer(b)\n",
    "#a.writerows(chois2dec)\n",
    "#b.close()"
   ]
  },
  {
   "cell_type": "markdown",
   "id": "5687d40f",
   "metadata": {
    "heading_collapsed": true
   },
   "source": [
    "# Using deferred measurement example 1"
   ]
  },
  {
   "cell_type": "code",
   "execution_count": 439,
   "id": "71d18e6f",
   "metadata": {
    "hidden": true
   },
   "outputs": [],
   "source": [
    "#Define the same uniteries as in the last section just to ilustrate.\n",
    "U=[[0,0,0,1],\n",
    "   [0,1,0,0],\n",
    "   [0,0,1,0],\n",
    "   [1,0,0,0]\n",
    "  ]\n",
    "U2=[[1,0,0,0],\n",
    "   [0,2**-0.5,2**-0.5,0],\n",
    "   [0,2**-0.5,-2**-0.5,0],\n",
    "    [0,0,0,1]\n",
    "   ]\n",
    "U3=[[0,0,1,0],\n",
    "   [2**-0.5,0,0,2**-0.5],\n",
    "   [-2**-0.5,0,0,2**-0.5],\n",
    "    [0,1,0,0]\n",
    "   ]"
   ]
  },
  {
   "cell_type": "code",
   "execution_count": 440,
   "id": "f075fac5",
   "metadata": {
    "hidden": true
   },
   "outputs": [
    {
     "data": {
      "image/png": "[encoded data removed]",
      "text/plain": [
       "<Figure size 146.652x144.48 with 1 Axes>"
      ]
     },
     "execution_count": 440,
     "metadata": {},
     "output_type": "execute_result"
    }
   ],
   "source": [
    "qc1=QuantumCircuit(2)\n",
    "qc1.unitary(U2,[1,0],'$U_{e^{\\mathcal{L}}}$')\n",
    "qc2=QuantumCircuit(2)\n",
    "qc2.unitary(U3,[1,0],'$U{\\prime}_{e^{\\mathcal{L}}}$')\n",
    "qc2.draw('mpl')"
   ]
  },
  {
   "cell_type": "code",
   "execution_count": 441,
   "id": "60d4f03e",
   "metadata": {
    "hidden": true
   },
   "outputs": [
    {
     "data": {
      "image/png": "[encoded data removed]",
      "text/plain": [
       "<Figure size 367.066x204.68 with 1 Axes>"
      ]
     },
     "execution_count": 441,
     "metadata": {},
     "output_type": "execute_result"
    }
   ],
   "source": [
    "q = QuantumRegister(3)\n",
    "qc=QuantumCircuit(q)\n",
    "qc.unitary(U,[1,0],'$U_{boundary}$')\n",
    "cU1=qc1.to_gate(label='$U_{e^{\\mathcal{L}}}$').control(1,ctrl_state=0)\n",
    "qc.append(cU1,[0,2,1])\n",
    "cU1=qc2.to_gate(label='$U{\\prime}_{e^{\\mathcal{L}}}$').control(1,ctrl_state=1)\n",
    "qc.append(cU1,[0,2,1])\n",
    "qc.draw('mpl')\n",
    "#qc.unitary(U3,[0,1]).c_if(c, 1)"
   ]
  },
  {
   "cell_type": "code",
   "execution_count": 443,
   "id": "586611d1",
   "metadata": {
    "hidden": true
   },
   "outputs": [
    {
     "data": {
      "image/png": "[encoded data removed]",
      "text/plain": [
       "<Figure size 1631.27x927.08 with 1 Axes>"
      ]
     },
     "execution_count": 443,
     "metadata": {},
     "output_type": "execute_result"
    }
   ],
   "source": [
    "qc_transpiled=transpile(qc,optimization_level=3)\n",
    "qc_transpiled.draw('mpl')"
   ]
  },
  {
   "cell_type": "markdown",
   "id": "79e1fa0f",
   "metadata": {
    "hidden": true
   },
   "source": [
    "### Quantum process tomography"
   ]
  },
  {
   "cell_type": "code",
   "execution_count": 442,
   "id": "d0391723",
   "metadata": {
    "hidden": true
   },
   "outputs": [],
   "source": [
    "backend='ibmq_bogota'\n",
    "quamtum_computer= provider.get_backend(backend)"
   ]
  },
  {
   "cell_type": "code",
   "execution_count": 375,
   "id": "4c81e363",
   "metadata": {
    "hidden": true
   },
   "outputs": [],
   "source": [
    "qpt_circs = process_tomography_circuits(qc_transpiled,q[1],prepared_qubits=q[1])"
   ]
  },
  {
   "cell_type": "code",
   "execution_count": 33,
   "id": "264cae1e",
   "metadata": {
    "hidden": true
   },
   "outputs": [],
   "source": [
    "# list(map(lambda r: r.draw(),qpt_circs)) Print list of quantum process tomography circuit"
   ]
  },
  {
   "cell_type": "code",
   "execution_count": 376,
   "id": "5a71c162",
   "metadata": {
    "hidden": true
   },
   "outputs": [],
   "source": [
    "job = execute(qpt_circs,backend=quamtum_computer, shots=20000)"
   ]
  },
  {
   "cell_type": "code",
   "execution_count": 377,
   "id": "c55dad71",
   "metadata": {
    "hidden": true
   },
   "outputs": [
    {
     "name": "stdout",
     "output_type": "stream",
     "text": [
      "Job Status: job has successfully run\n"
     ]
    }
   ],
   "source": [
    "job_monitor(job)"
   ]
  },
  {
   "cell_type": "code",
   "execution_count": 59,
   "id": "126ce6c9",
   "metadata": {
    "hidden": true
   },
   "outputs": [
    {
     "name": "stdout",
     "output_type": "stream",
     "text": [
      "0\n",
      "Job Status: job has successfully run\n",
      "1\n",
      "Job Status: job has successfully run\n",
      "2\n",
      "Job Status: job has successfully run\n",
      "3\n",
      "Job Status: job has successfully run\n",
      "4\n",
      "Job Status: job has successfully run\n",
      "5\n",
      "Job Status: job has successfully run\n",
      "6\n",
      "Job Status: job has successfully run\n",
      "7\n",
      "Job Status: job has successfully run\n",
      "8\n",
      "Job Status: job has successfully run\n",
      "9\n",
      "Job Status: job has successfully run\n",
      "10\n",
      "Job Status: job has successfully run\n",
      "11\n",
      "Job Status: job has successfully run\n",
      "12\n",
      "Job Status: job has successfully run\n",
      "13\n",
      "Job Status: job has successfully run\n",
      "14\n",
      "Job Status: job has successfully run\n"
     ]
    }
   ],
   "source": [
    "#joblist=[]\n",
    "for i in range(15):\n",
    "    job = execute(qpt_circs,backend=quamtum_computer, shots=20000)\n",
    "    print(i)\n",
    "    job_monitor(job)\n",
    "    joblist.append(job)"
   ]
  },
  {
   "cell_type": "code",
   "execution_count": 230,
   "id": "11a66329",
   "metadata": {
    "hidden": true
   },
   "outputs": [],
   "source": [
    "chois=list(map(lambda r: ProcessTomographyFitter(r.result(), qpt_circs).fit(),joblist))\n",
    "chois=list(map(np.array,chois))"
   ]
  },
  {
   "cell_type": "code",
   "execution_count": 379,
   "id": "09b241b4",
   "metadata": {
    "hidden": true
   },
   "outputs": [],
   "source": [
    "choi=ProcessTomographyFitter(job.result(), qpt_circs).fit()"
   ]
  },
  {
   "cell_type": "code",
   "execution_count": 378,
   "id": "8a82e32e",
   "metadata": {
    "hidden": true
   },
   "outputs": [],
   "source": [
    "theoreticalchoi=np.diag(0.5*np.array([1,1,1,1]))"
   ]
  },
  {
   "cell_type": "code",
   "execution_count": 380,
   "id": "51ac3b9f",
   "metadata": {
    "hidden": true
   },
   "outputs": [
    {
     "data": {
      "text/plain": [
       "(0.9892080869797186+3.207282004944268e-17j)"
      ]
     },
     "execution_count": 380,
     "metadata": {},
     "output_type": "execute_result"
    }
   ],
   "source": [
    "trace(sqrtm(multi_dot([sqrtm(theoreticalchoi),choi,sqrtm(theoreticalchoi)])))/2"
   ]
  },
  {
   "cell_type": "code",
   "execution_count": 395,
   "id": "c237c19b",
   "metadata": {
    "hidden": true
   },
   "outputs": [],
   "source": [
    "import sympy as sym"
   ]
  },
  {
   "cell_type": "code",
   "execution_count": 400,
   "id": "5eb38ae9",
   "metadata": {
    "hidden": true
   },
   "outputs": [],
   "source": [
    "import array_to_latex as a2l"
   ]
  },
  {
   "cell_type": "markdown",
   "id": "de1f2dcc",
   "metadata": {
    "hidden": true
   },
   "source": [
    "$$\\begin{bmatrix}\n",
    "  0.40 + 0.00j &  -0.00 + -0.10j &  0.00 + 0.00j &  -0.00 + 0.10j\\\\\n",
    "  -0.00 + 0.10j &  0.60 + 0.00j &  -0.00 + -0.10j &  -0.00 + -0.00j\\\\\n",
    "  0.00 + -0.00j &  -0.00 + 0.10j &  0.50 + 0.00j &  0.10 + -0.10j\\\\\n",
    "  -0.00 + -0.10j &  -0.00 + 0.00j &  0.10 + 0.10j &  0.50 + 0.00j\n",
    "\\end{bmatrix}$$"
   ]
  },
  {
   "cell_type": "code",
   "execution_count": 397,
   "id": "cab5beab",
   "metadata": {
    "hidden": true
   },
   "outputs": [
    {
     "data": {
      "text/plain": [
       "array([[ 0.4+0.j , -0. -0.1j,  0. +0.j , -0. +0.1j],\n",
       "       [-0. +0.1j,  0.6+0.j , -0. -0.1j, -0. -0.j ],\n",
       "       [ 0. -0.j , -0. +0.1j,  0.5+0.j ,  0.1-0.1j],\n",
       "       [-0. -0.1j, -0. +0.j ,  0.1+0.1j,  0.5+0.j ]])"
      ]
     },
     "execution_count": 397,
     "metadata": {},
     "output_type": "execute_result"
    }
   ],
   "source": [
    "choidepo=np.round(choi,1)\n",
    "choidepo"
   ]
  },
  {
   "cell_type": "code",
   "execution_count": 231,
   "id": "9a29dffb",
   "metadata": {
    "hidden": true
   },
   "outputs": [],
   "source": [
    "fidelities=[]\n",
    "for k in chois:\n",
    "    fidelities.append(trace(sqrtm(multi_dot([sqrtm(theoreticalchoi),k,sqrtm(theoreticalchoi)])))/2)"
   ]
  },
  {
   "cell_type": "code",
   "execution_count": 232,
   "id": "186bb5fb",
   "metadata": {
    "hidden": true
   },
   "outputs": [
    {
     "data": {
      "image/png": "[encoded data removed]",
      "text/plain": [
       "<Figure size 432x288 with 1 Axes>"
      ]
     },
     "metadata": {
      "needs_background": "light"
     },
     "output_type": "display_data"
    }
   ],
   "source": [
    "plt.boxplot(np.real(fidelities))\n",
    "plt.show()"
   ]
  },
  {
   "cell_type": "code",
   "execution_count": 233,
   "id": "4ef20309",
   "metadata": {
    "hidden": true
   },
   "outputs": [],
   "source": [
    "import csv\n",
    "b = open('fidelities1.csv', 'w')\n",
    "a = csv.writer(b)\n",
    "a.writerows(chois)\n",
    "b.close()"
   ]
  },
  {
   "cell_type": "code",
   "execution_count": 235,
   "id": "3182d3e1",
   "metadata": {
    "hidden": true
   },
   "outputs": [
    {
     "ename": "ValueError",
     "evalue": "Some errors were detected !\n    Line #2 (got 9 columns instead of 6)\n    Line #3 (got 5 columns instead of 6)\n    Line #4 (got 7 columns instead of 6)\n    Line #5 (got 3 columns instead of 6)\n    Line #8 (got 8 columns instead of 6)\n    Line #9 (got 8 columns instead of 6)\n    Line #10 (got 3 columns instead of 6)\n    Line #12 (got 9 columns instead of 6)\n    Line #13 (got 5 columns instead of 6)\n    Line #14 (got 7 columns instead of 6)\n    Line #15 (got 3 columns instead of 6)\n    Line #17 (got 9 columns instead of 6)\n    Line #18 (got 5 columns instead of 6)\n    Line #19 (got 7 columns instead of 6)\n    Line #20 (got 3 columns instead of 6)\n    Line #21 (got 3 columns instead of 6)\n    Line #23 (got 5 columns instead of 6)\n    Line #25 (got 2 columns instead of 6)\n    Line #26 (got 7 columns instead of 6)\n    Line #27 (got 5 columns instead of 6)\n    Line #28 (got 7 columns instead of 6)\n    Line #29 (got 7 columns instead of 6)\n    Line #30 (got 3 columns instead of 6)\n    Line #31 (got 22 columns instead of 6)\n    Line #32 (got 7 columns instead of 6)\n    Line #33 (got 5 columns instead of 6)\n    Line #34 (got 5 columns instead of 6)\n    Line #36 (got 3 columns instead of 6)\n    Line #37 (got 4 columns instead of 6)\n    Line #38 (got 3 columns instead of 6)\n    Line #39 (got 3 columns instead of 6)\n    Line #40 (got 4 columns instead of 6)\n    Line #41 (got 2 columns instead of 6)\n    Line #42 (got 7 columns instead of 6)\n    Line #43 (got 5 columns instead of 6)\n    Line #44 (got 7 columns instead of 6)\n    Line #45 (got 7 columns instead of 6)\n    Line #46 (got 3 columns instead of 6)\n    Line #47 (got 25 columns instead of 6)\n    Line #49 (got 5 columns instead of 6)\n    Line #50 (got 4 columns instead of 6)\n    Line #52 (got 3 columns instead of 6)\n    Line #53 (got 4 columns instead of 6)\n    Line #54 (got 7 columns instead of 6)\n    Line #55 (got 3 columns instead of 6)\n    Line #57 (got 3 columns instead of 6)\n    Line #58 (got 7 columns instead of 6)\n    Line #59 (got 5 columns instead of 6)\n    Line #60 (got 7 columns instead of 6)\n    Line #61 (got 7 columns instead of 6)\n    Line #62 (got 3 columns instead of 6)\n    Line #65 (got 4 columns instead of 6)\n    Line #67 (got 3 columns instead of 6)\n    Line #70 (got 4 columns instead of 6)\n    Line #72 (got 3 columns instead of 6)\n    Line #74 (got 9 columns instead of 6)\n    Line #75 (got 5 columns instead of 6)\n    Line #76 (got 7 columns instead of 6)\n    Line #77 (got 3 columns instead of 6)\n    Line #79 (got 9 columns instead of 6)\n    Line #81 (got 7 columns instead of 6)\n    Line #82 (got 3 columns instead of 6)\n    Line #84 (got 9 columns instead of 6)\n    Line #85 (got 5 columns instead of 6)\n    Line #86 (got 7 columns instead of 6)\n    Line #87 (got 3 columns instead of 6)\n    Line #88 (got 28 columns instead of 6)",
     "output_type": "error",
     "traceback": [
      "\u001b[0;31m---------------------------------------------------------------------------\u001b[0m",
      "\u001b[0;31mValueError\u001b[0m                                Traceback (most recent call last)",
      "Input \u001b[0;32mIn [235]\u001b[0m, in \u001b[0;36m<cell line: 2>\u001b[0;34m()\u001b[0m\n\u001b[1;32m      1\u001b[0m \u001b[38;5;28;01mfrom\u001b[39;00m \u001b[38;5;21;01mnumpy\u001b[39;00m \u001b[38;5;28;01mimport\u001b[39;00m genfromtxt\n\u001b[0;32m----> 2\u001b[0m my_data \u001b[38;5;241m=\u001b[39m \u001b[43mgenfromtxt\u001b[49m\u001b[43m(\u001b[49m\u001b[38;5;124;43m'\u001b[39;49m\u001b[38;5;124;43mfidelities1.csv\u001b[39;49m\u001b[38;5;124;43m'\u001b[39;49m\u001b[43m)\u001b[49m\n",
      "File \u001b[0;32m~/anaconda3/envs/ibm/lib/python3.8/site-packages/numpy/lib/npyio.py:2145\u001b[0m, in \u001b[0;36mgenfromtxt\u001b[0;34m(fname, dtype, comments, delimiter, skip_header, skip_footer, converters, missing_values, filling_values, usecols, names, excludelist, deletechars, replace_space, autostrip, case_sensitive, defaultfmt, unpack, usemask, loose, invalid_raise, max_rows, encoding, like)\u001b[0m\n\u001b[1;32m   2143\u001b[0m \u001b[38;5;66;03m# Raise an exception ?\u001b[39;00m\n\u001b[1;32m   2144\u001b[0m \u001b[38;5;28;01mif\u001b[39;00m invalid_raise:\n\u001b[0;32m-> 2145\u001b[0m     \u001b[38;5;28;01mraise\u001b[39;00m \u001b[38;5;167;01mValueError\u001b[39;00m(errmsg)\n\u001b[1;32m   2146\u001b[0m \u001b[38;5;66;03m# Issue a warning ?\u001b[39;00m\n\u001b[1;32m   2147\u001b[0m \u001b[38;5;28;01melse\u001b[39;00m:\n\u001b[1;32m   2148\u001b[0m     warnings\u001b[38;5;241m.\u001b[39mwarn(errmsg, ConversionWarning, stacklevel\u001b[38;5;241m=\u001b[39m\u001b[38;5;241m2\u001b[39m)\n",
      "\u001b[0;31mValueError\u001b[0m: Some errors were detected !\n    Line #2 (got 9 columns instead of 6)\n    Line #3 (got 5 columns instead of 6)\n    Line #4 (got 7 columns instead of 6)\n    Line #5 (got 3 columns instead of 6)\n    Line #8 (got 8 columns instead of 6)\n    Line #9 (got 8 columns instead of 6)\n    Line #10 (got 3 columns instead of 6)\n    Line #12 (got 9 columns instead of 6)\n    Line #13 (got 5 columns instead of 6)\n    Line #14 (got 7 columns instead of 6)\n    Line #15 (got 3 columns instead of 6)\n    Line #17 (got 9 columns instead of 6)\n    Line #18 (got 5 columns instead of 6)\n    Line #19 (got 7 columns instead of 6)\n    Line #20 (got 3 columns instead of 6)\n    Line #21 (got 3 columns instead of 6)\n    Line #23 (got 5 columns instead of 6)\n    Line #25 (got 2 columns instead of 6)\n    Line #26 (got 7 columns instead of 6)\n    Line #27 (got 5 columns instead of 6)\n    Line #28 (got 7 columns instead of 6)\n    Line #29 (got 7 columns instead of 6)\n    Line #30 (got 3 columns instead of 6)\n    Line #31 (got 22 columns instead of 6)\n    Line #32 (got 7 columns instead of 6)\n    Line #33 (got 5 columns instead of 6)\n    Line #34 (got 5 columns instead of 6)\n    Line #36 (got 3 columns instead of 6)\n    Line #37 (got 4 columns instead of 6)\n    Line #38 (got 3 columns instead of 6)\n    Line #39 (got 3 columns instead of 6)\n    Line #40 (got 4 columns instead of 6)\n    Line #41 (got 2 columns instead of 6)\n    Line #42 (got 7 columns instead of 6)\n    Line #43 (got 5 columns instead of 6)\n    Line #44 (got 7 columns instead of 6)\n    Line #45 (got 7 columns instead of 6)\n    Line #46 (got 3 columns instead of 6)\n    Line #47 (got 25 columns instead of 6)\n    Line #49 (got 5 columns instead of 6)\n    Line #50 (got 4 columns instead of 6)\n    Line #52 (got 3 columns instead of 6)\n    Line #53 (got 4 columns instead of 6)\n    Line #54 (got 7 columns instead of 6)\n    Line #55 (got 3 columns instead of 6)\n    Line #57 (got 3 columns instead of 6)\n    Line #58 (got 7 columns instead of 6)\n    Line #59 (got 5 columns instead of 6)\n    Line #60 (got 7 columns instead of 6)\n    Line #61 (got 7 columns instead of 6)\n    Line #62 (got 3 columns instead of 6)\n    Line #65 (got 4 columns instead of 6)\n    Line #67 (got 3 columns instead of 6)\n    Line #70 (got 4 columns instead of 6)\n    Line #72 (got 3 columns instead of 6)\n    Line #74 (got 9 columns instead of 6)\n    Line #75 (got 5 columns instead of 6)\n    Line #76 (got 7 columns instead of 6)\n    Line #77 (got 3 columns instead of 6)\n    Line #79 (got 9 columns instead of 6)\n    Line #81 (got 7 columns instead of 6)\n    Line #82 (got 3 columns instead of 6)\n    Line #84 (got 9 columns instead of 6)\n    Line #85 (got 5 columns instead of 6)\n    Line #86 (got 7 columns instead of 6)\n    Line #87 (got 3 columns instead of 6)\n    Line #88 (got 28 columns instead of 6)"
     ]
    }
   ],
   "source": [
    "from numpy import genfromtxt\n",
    "my_data = genfromtxt('fidelities1.csv')"
   ]
  },
  {
   "cell_type": "markdown",
   "id": "5e6059e1",
   "metadata": {},
   "source": [
    "# Using deferred measurement and effectively using 2 qubits"
   ]
  },
  {
   "cell_type": "code",
   "execution_count": 96,
   "id": "7f935f78",
   "metadata": {},
   "outputs": [],
   "source": [
    "U=[[0,0,1,0],\n",
    "   [0,1,0,0],\n",
    "   [1,0,0,0],\n",
    "   [0,0,0,1]\n",
    "  ]\n",
    "l=0.75\n",
    "gm=(1-l)**0.5/(2**0.5)\n",
    "gp=(1+l)**0.5/(2**0.5)\n",
    "U2=[[0,gm,0,-gp],\n",
    "   [gm,0,-gp,0],\n",
    "   [gp,0,gm,0],\n",
    "    [0,gp,0,gm]]\n",
    "U3=[[0,-gp,0,gm],\n",
    "   [-gp,0,gm,0],\n",
    "   [gm,0,gp,0],\n",
    "     [0,gm,0,gp]]"
   ]
  },
  {
   "cell_type": "code",
   "execution_count": 97,
   "id": "6379ef79",
   "metadata": {},
   "outputs": [
    {
     "data": {
      "image/png": "[encoded data removed]",
      "text/plain": [
       "<Figure size 146.652x144.48 with 1 Axes>"
      ]
     },
     "execution_count": 97,
     "metadata": {},
     "output_type": "execute_result"
    }
   ],
   "source": [
    "qc1=QuantumCircuit(2)\n",
    "qc1.unitary(U2,[0,1],'$U_{e^{\\mathcal{L}}}$')\n",
    "qc2=QuantumCircuit(2)\n",
    "qc2.unitary(U3,[0,1],'$U{\\prime}_{e^{\\mathcal{L}}}$')\n",
    "qc2.draw('mpl')"
   ]
  },
  {
   "cell_type": "markdown",
   "id": "764cd302",
   "metadata": {},
   "source": [
    "In the following, the third qubit is used as a classical qubit due to the fact that the quantum computer used does not support classically controlled unitary gates.\n",
    "\n",
    "Therefore, we use a CNOT gate to change the state of the third qubit according to the final environmental state"
   ]
  },
  {
   "cell_type": "code",
   "execution_count": 98,
   "id": "6dd84316",
   "metadata": {},
   "outputs": [
    {
     "data": {
      "image/png": "[encoded data removed]",
      "text/plain": [
       "<Figure size 413.995x204.68 with 1 Axes>"
      ]
     },
     "execution_count": 98,
     "metadata": {},
     "output_type": "execute_result"
    }
   ],
   "source": [
    "q = QuantumRegister(3)\n",
    "qc=QuantumCircuit(q)\n",
    "qc.unitary(U,[0,1],'$U_{boundary}$')\n",
    "qc.cnot([1],[2])\n",
    "cU1=qc1.to_gate(label='$U_{e^{\\mathcal{L}}}$').control(1,ctrl_state=0)\n",
    "qc.append(cU1,[2,0,1])\n",
    "cU2=qc2.to_gate(label='$U{\\prime}_{e^{\\mathcal{L}}}$').control(1,ctrl_state=1)\n",
    "qc.append(cU2,[2,0,1])\n",
    "qc.draw('mpl')\n",
    "#cU1=qc1.to_gate(label='$U_{e^{\\mathcal{L}}}$').control(1,ctrl_state=0)"
   ]
  },
  {
   "cell_type": "markdown",
   "id": "84ef25f1",
   "metadata": {},
   "source": [
    "### Quantum process tomography"
   ]
  },
  {
   "cell_type": "code",
   "execution_count": 99,
   "id": "d82cce73",
   "metadata": {},
   "outputs": [],
   "source": [
    "backend='ibmq_quito'\n",
    "quamtum_computer= provider.get_backend(backend)"
   ]
  },
  {
   "cell_type": "code",
   "execution_count": 100,
   "id": "abe6df2a",
   "metadata": {},
   "outputs": [],
   "source": [
    "qpt_circs = process_tomography_circuits(qc,q[0],prepared_qubits=q[0])"
   ]
  },
  {
   "cell_type": "code",
   "execution_count": 70,
   "id": "aed455ac",
   "metadata": {},
   "outputs": [
    {
     "name": "stdout",
     "output_type": "stream",
     "text": [
      "0\n",
      "Job Status: job has successfully run\n",
      "1\n",
      "Job Status: job has successfully run\n",
      "2\n",
      "Job Status: job has successfully run\n",
      "3\n",
      "Job Status: job has successfully run\n",
      "4\n",
      "Job Status: job has successfully run\n",
      "5\n",
      "Job Status: job has successfully run\n",
      "6\n",
      "Job Status: job has successfully run\n",
      "7\n",
      "Job Status: job has successfully run\n"
     ]
    }
   ],
   "source": [
    "#joblist2=[]\n",
    "for i in range(8):\n",
    "    job = execute(qpt_circs,backend=quamtum_computer, shots=20000)\n",
    "    print(i)\n",
    "    job_monitor(job)\n",
    "    joblist2.append(job)"
   ]
  },
  {
   "cell_type": "code",
   "execution_count": 71,
   "id": "5c77637f",
   "metadata": {},
   "outputs": [],
   "source": [
    "chois2=list(map(lambda r: ProcessTomographyFitter(r.result(), qpt_circs).fit(),joblist2))\n",
    "chois2=list(map(np.array,chois2))"
   ]
  },
  {
   "cell_type": "code",
   "execution_count": 88,
   "id": "8d937f66",
   "metadata": {},
   "outputs": [
    {
     "data": {
      "text/plain": [
       "array([[ 0.7+0.j ,  0.1-0.j , -0. -0.1j,  0.1-0.1j],\n",
       "       [ 0.1+0.j ,  0.3+0.j , -0.1+0.j ,  0. +0.1j],\n",
       "       [-0. +0.1j, -0.1-0.j ,  0.4+0.j , -0.1+0.j ],\n",
       "       [ 0.1+0.1j,  0. -0.1j, -0.1-0.j ,  0.6+0.j ]])"
      ]
     },
     "execution_count": 88,
     "metadata": {},
     "output_type": "execute_result"
    }
   ],
   "source": [
    "np.round(chois2[6],1)"
   ]
  },
  {
   "cell_type": "code",
   "execution_count": 76,
   "id": "9e92fcff",
   "metadata": {},
   "outputs": [],
   "source": [
    "fidelities2=[]\n",
    "for k in chois2:\n",
    "    fidelities2.append(trace(sqrtm(multi_dot([sqrtm(theoreticalchoi2),k,sqrtm(theoreticalchoi2)])))/2)"
   ]
  },
  {
   "cell_type": "code",
   "execution_count": 106,
   "id": "ba4ebfe8",
   "metadata": {},
   "outputs": [
    {
     "data": {
      "text/plain": [
       "[(0.9544422808207389-7.046657428755168e-17j),\n",
       " (0.9593930862438218-2.542496679416495e-17j),\n",
       " (0.9531955748386332-2.0833472515479572e-17j),\n",
       " (0.9564431817561061-4.503203667665078e-17j),\n",
       " (0.9583185038854869-5.814832086018091e-17j),\n",
       " (0.9581180414039011+3.4568061475891347e-18j),\n",
       " (0.9576835755033482-4.8574082328344235e-17j),\n",
       " (0.9474204357735959-1.0437675611359956e-17j),\n",
       " (0.9674169551363101-3.4826221790063944e-17j),\n",
       " (0.9538350083651695+1.831819130351159e-17j)]"
      ]
     },
     "execution_count": 106,
     "metadata": {},
     "output_type": "execute_result"
    }
   ],
   "source": [
    "fidelities2"
   ]
  },
  {
   "cell_type": "code",
   "execution_count": 77,
   "id": "990e06d9",
   "metadata": {},
   "outputs": [
    {
     "data": {
      "image/png": "[encoded data removed]",
      "text/plain": [
       "<Figure size 432x288 with 1 Axes>"
      ]
     },
     "metadata": {
      "needs_background": "light"
     },
     "output_type": "display_data"
    }
   ],
   "source": [
    "plt.boxplot(np.real(fidelities2))\n",
    "plt.show()"
   ]
  },
  {
   "cell_type": "code",
   "execution_count": 113,
   "id": "7f0e8d7d",
   "metadata": {},
   "outputs": [],
   "source": [
    "np.save('chois2.npy', np.array(chois2),allow_pickle=False)"
   ]
  },
  {
   "cell_type": "code",
   "execution_count": 108,
   "id": "dfe24020",
   "metadata": {},
   "outputs": [
    {
     "ename": "FileNotFoundError",
     "evalue": "[Errno 2] No such file or directory: 'chois.npy'",
     "output_type": "error",
     "traceback": [
      "\u001b[0;31m---------------------------------------------------------------------------\u001b[0m",
      "\u001b[0;31mFileNotFoundError\u001b[0m                         Traceback (most recent call last)",
      "Input \u001b[0;32mIn [108]\u001b[0m, in \u001b[0;36m<cell line: 2>\u001b[0;34m()\u001b[0m\n\u001b[1;32m      1\u001b[0m np\u001b[38;5;241m.\u001b[39msave(\u001b[38;5;124m'\u001b[39m\u001b[38;5;124mchois2.npy\u001b[39m\u001b[38;5;124m'\u001b[39m, chois2, allow_pickle\u001b[38;5;241m=\u001b[39m\u001b[38;5;28;01mTrue\u001b[39;00m)\n\u001b[0;32m----> 2\u001b[0m testchois2 \u001b[38;5;241m=\u001b[39m \u001b[43mnp\u001b[49m\u001b[38;5;241;43m.\u001b[39;49m\u001b[43mload\u001b[49m\u001b[43m(\u001b[49m\u001b[38;5;124;43m'\u001b[39;49m\u001b[38;5;124;43mchois.npy\u001b[39;49m\u001b[38;5;124;43m'\u001b[39;49m\u001b[43m,\u001b[49m\u001b[43m \u001b[49m\u001b[43mallow_pickle\u001b[49m\u001b[38;5;241;43m=\u001b[39;49m\u001b[38;5;28;43;01mTrue\u001b[39;49;00m\u001b[43m)\u001b[49m\n",
      "File \u001b[0;32m~/anaconda3/envs/ibm/lib/python3.8/site-packages/numpy/lib/npyio.py:407\u001b[0m, in \u001b[0;36mload\u001b[0;34m(file, mmap_mode, allow_pickle, fix_imports, encoding)\u001b[0m\n\u001b[1;32m    405\u001b[0m     own_fid \u001b[38;5;241m=\u001b[39m \u001b[38;5;28;01mFalse\u001b[39;00m\n\u001b[1;32m    406\u001b[0m \u001b[38;5;28;01melse\u001b[39;00m:\n\u001b[0;32m--> 407\u001b[0m     fid \u001b[38;5;241m=\u001b[39m stack\u001b[38;5;241m.\u001b[39menter_context(\u001b[38;5;28;43mopen\u001b[39;49m\u001b[43m(\u001b[49m\u001b[43mos_fspath\u001b[49m\u001b[43m(\u001b[49m\u001b[43mfile\u001b[49m\u001b[43m)\u001b[49m\u001b[43m,\u001b[49m\u001b[43m \u001b[49m\u001b[38;5;124;43m\"\u001b[39;49m\u001b[38;5;124;43mrb\u001b[39;49m\u001b[38;5;124;43m\"\u001b[39;49m\u001b[43m)\u001b[49m)\n\u001b[1;32m    408\u001b[0m     own_fid \u001b[38;5;241m=\u001b[39m \u001b[38;5;28;01mTrue\u001b[39;00m\n\u001b[1;32m    410\u001b[0m \u001b[38;5;66;03m# Code to distinguish from NumPy binary files and pickles.\u001b[39;00m\n",
      "\u001b[0;31mFileNotFoundError\u001b[0m: [Errno 2] No such file or directory: 'chois.npy'"
     ]
    }
   ],
   "source": [
    "np.save('chois2.npy', chois2, allow_pickle=True)\n",
    "testchois2 = np.load('chois.npy', allow_pickle=True)"
   ]
  },
  {
   "cell_type": "code",
   "execution_count": 107,
   "id": "f515ab66",
   "metadata": {},
   "outputs": [],
   "source": [
    "import csv\n",
    "b = open('chois2.csv', 'w')\n",
    "a = csv.writer(b)\n",
    "a.writerows(chois2)\n",
    "b.close()"
   ]
  }
 ],
 "metadata": {
  "kernelspec": {
   "display_name": "Python 3 (ipykernel)",
   "language": "python",
   "name": "python3"
  },
  "language_info": {
   "codemirror_mode": {
    "name": "ipython",
    "version": 3
   },
   "file_extension": ".py",
   "mimetype": "text/x-python",
   "name": "python",
   "nbconvert_exporter": "python",
   "pygments_lexer": "ipython3",
   "version": "3.8.13"
  }
 },
 "nbformat": 4,
 "nbformat_minor": 5
}
