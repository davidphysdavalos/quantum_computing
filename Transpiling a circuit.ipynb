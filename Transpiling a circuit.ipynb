{
 "cells": [
  {
   "cell_type": "code",
   "execution_count": 7,
   "id": "97ef5c3b",
   "metadata": {},
   "outputs": [],
   "source": [
    "import numpy as np"
   ]
  },
  {
   "cell_type": "code",
   "execution_count": 8,
   "id": "a3dbb7a7",
   "metadata": {},
   "outputs": [],
   "source": [
    "arr=np.array([[ 0.87815 +0.j      ,  0.0104  -0.03035j ,  0.001725-0.040975j,\n",
    "         0.0119  -0.011j   ],\n",
    "       [ 0.0104  +0.03035j ,  0.12185 +0.j      , -0.0066  -0.0091j  ,\n",
    "        -0.001725+0.040975j],\n",
    "       [ 0.001725+0.040975j, -0.0066  +0.0091j  ,  0.1649  +0.j      ,\n",
    "         0.0046  +0.00495j ],\n",
    "       [ 0.0119  +0.011j   , -0.001725-0.040975j,  0.0046  -0.00495j ,\n",
    "         0.8351  +0.j      ]])\n",
    "l=0.75\n",
    "gm=(1-l)**0.5/(2**0.5)\n",
    "gp=(1+l)**0.5/(2**0.5)\n",
    "theoreticalchoi2=np.diag(0.5*np.array([1+l,1-l,1-l,1+l]))"
   ]
  },
  {
   "cell_type": "code",
   "execution_count": 9,
   "id": "2972f98e",
   "metadata": {},
   "outputs": [],
   "source": [
    "import array_to_latex as a2l"
   ]
  },
  {
   "cell_type": "code",
   "execution_count": 10,
   "id": "25a441e9",
   "metadata": {},
   "outputs": [
    {
     "data": {
      "text/plain": [
       "'%.5f'"
      ]
     },
     "execution_count": 10,
     "metadata": {},
     "output_type": "execute_result"
    }
   ],
   "source": [
    "%precision 5"
   ]
  },
  {
   "cell_type": "code",
   "execution_count": 11,
   "id": "95e2f907",
   "metadata": {},
   "outputs": [
    {
     "ename": "SyntaxError",
     "evalue": "invalid syntax (pretty.py, line 165)",
     "output_type": "error",
     "traceback": [
      "Traceback \u001b[0;36m(most recent call last)\u001b[0m:\n",
      "  File \u001b[1;32m~/anaconda3/envs/ibm/lib/python3.8/site-packages/IPython/core/interactiveshell.py:3369\u001b[0m in \u001b[1;35mrun_code\u001b[0m\n    exec(code_obj, self.user_global_ns, self.user_ns)\n",
      "\u001b[0;36m  Input \u001b[0;32mIn [11]\u001b[0;36m in \u001b[0;35m<cell line: 1>\u001b[0;36m\u001b[0m\n\u001b[0;31m    from pretty import pprint\u001b[0m\n",
      "\u001b[0;36m  File \u001b[0;32m~/anaconda3/envs/ibm/lib/python3.8/site-packages/pretty.py:165\u001b[0;36m\u001b[0m\n\u001b[0;31m    '''\u001b[0m\n\u001b[0m       \n^\u001b[0m\n\u001b[0;31mSyntaxError\u001b[0m\u001b[0;31m:\u001b[0m invalid syntax\n"
     ]
    }
   ],
   "source": [
    "from pretty import pprint"
   ]
  },
  {
   "cell_type": "code",
   "execution_count": 13,
   "id": "8b43f1a8",
   "metadata": {},
   "outputs": [
    {
     "name": "stdout",
     "output_type": "stream",
     "text": [
      "\\begin{bmatrix}\n",
      "  0.88 + 0.00j &  0.01 + -0.03j &  0.00 + -0.04j &  0.01 + -0.01j\\\\\n",
      "  0.01 + 0.03j &  0.12 + 0.00j & -0.01 + -0.01j & -0.00 + 0.04j\\\\\n",
      "  0.00 + 0.04j & -0.01 + 0.01j &  0.16 + 0.00j &  0.00 + 0.00j\\\\\n",
      "  0.01 + 0.01j & -0.00 + -0.04j &  0.00 + -0.00j &  0.84 + 0.00j\n",
      "\\end{bmatrix}\n"
     ]
    }
   ],
   "source": [
    "a2l.to_ltx(arr)"
   ]
  },
  {
   "cell_type": "markdown",
   "id": "dd9b7652",
   "metadata": {},
   "source": [
    "$$\\begin{bmatrix}\n",
    "  0.88 + 0.00j &  0.01 + -0.03j &  0.00 + -0.04j &  0.01 + -0.01j\\\\\n",
    "  0.01 + 0.03j &  0.12 + 0.00j & -0.01 + -0.01j & -0.00 + 0.04j\\\\\n",
    "  0.00 + 0.04j & -0.01 + 0.01j &  0.16 + 0.00j &  0.00 + 0.00j\\\\\n",
    "  0.01 + 0.01j & -0.00 + -0.04j &  0.00 + -0.00j &  0.84 + 0.00j\n",
    "\\end{bmatrix}$$"
   ]
  },
  {
   "cell_type": "code",
   "execution_count": 14,
   "id": "31bc9a98",
   "metadata": {},
   "outputs": [],
   "source": [
    "import sympy as sym"
   ]
  },
  {
   "cell_type": "code",
   "execution_count": 26,
   "id": "64a2dffd",
   "metadata": {},
   "outputs": [
    {
     "data": {
      "text/latex": [
       "$\\displaystyle \\left[\\begin{matrix}0.87815 & 0.0104 - 0.03035 i & 0.001725 - 0.040975 i & 0.0119 - 0.011 i\\\\0.0104 + 0.03035 i & 0.12185 & -0.0066 - 0.0091 i & -0.001725 + 0.040975 i\\\\0.001725 + 0.040975 i & -0.0066 + 0.0091 i & 0.1649 & 0.0046 + 0.00495 i\\\\0.0119 + 0.011 i & -0.001725 - 0.040975 i & 0.0046 - 0.00495 i & 0.8351\\end{matrix}\\right]$"
      ],
      "text/plain": [
       "Matrix([\n",
       "[              0.87815,     0.0104 - 0.03035*I, 0.001725 - 0.040975*I,       0.0119 - 0.011*I],\n",
       "[   0.0104 + 0.03035*I,                0.12185,    -0.0066 - 0.0091*I, -0.001725 + 0.040975*I],\n",
       "[0.001725 + 0.040975*I,     -0.0066 + 0.0091*I,                0.1649,     0.0046 + 0.00495*I],\n",
       "[     0.0119 + 0.011*I, -0.001725 - 0.040975*I,    0.0046 - 0.00495*I,                 0.8351]])"
      ]
     },
     "execution_count": 26,
     "metadata": {},
     "output_type": "execute_result"
    }
   ],
   "source": [
    "sym.Matrix(arr)"
   ]
  },
  {
   "cell_type": "code",
   "execution_count": 7,
   "id": "b55273ec",
   "metadata": {},
   "outputs": [
    {
     "name": "stdout",
     "output_type": "stream",
     "text": [
      "\\begin{bmatrix}\n",
      "  0.88 &  0.00 &  0.00 &  0.00\\\\\n",
      "  0.00 &  0.12 &  0.00 &  0.00\\\\\n",
      "  0.00 &  0.00 &  0.12 &  0.00\\\\\n",
      "  0.00 &  0.00 &  0.00 &  0.88\n",
      "\\end{bmatrix}\n"
     ]
    }
   ],
   "source": [
    "a2l.to_ltx(theoreticalchoi2)"
   ]
  },
  {
   "cell_type": "code",
   "execution_count": 8,
   "id": "3844e489",
   "metadata": {},
   "outputs": [
    {
     "data": {
      "text/plain": [
       "array([[0.875, 0.   , 0.   , 0.   ],\n",
       "       [0.   , 0.125, 0.   , 0.   ],\n",
       "       [0.   , 0.   , 0.125, 0.   ],\n",
       "       [0.   , 0.   , 0.   , 0.875]])"
      ]
     },
     "execution_count": 8,
     "metadata": {},
     "output_type": "execute_result"
    }
   ],
   "source": [
    "theoreticalchoi2"
   ]
  },
  {
   "cell_type": "code",
   "execution_count": 8,
   "id": "21d64c81",
   "metadata": {},
   "outputs": [],
   "source": [
    "from qiskit import QuantumCircuit, transpile, ClassicalRegister, QuantumRegister"
   ]
  },
  {
   "cell_type": "code",
   "execution_count": 9,
   "id": "0dbbaa70",
   "metadata": {},
   "outputs": [],
   "source": [
    "# Tomography functions\n",
    "from qiskit.ignis.verification.tomography import state_tomography_circuits, StateTomographyFitter\n",
    "from qiskit.ignis.verification.tomography import process_tomography_circuits, ProcessTomographyFitter\n",
    "from qiskit.ignis.verification.tomography import gateset_tomography_circuits, GatesetTomographyFitter"
   ]
  },
  {
   "cell_type": "code",
   "execution_count": null,
   "id": "19e11018",
   "metadata": {},
   "outputs": [],
   "source": []
  },
  {
   "cell_type": "code",
   "execution_count": 40,
   "id": "bb44ced5",
   "metadata": {},
   "outputs": [],
   "source": [
    "q = QuantumRegister(3)\n",
    "qc=QuantumCircuit(q)"
   ]
  },
  {
   "cell_type": "code",
   "execution_count": 41,
   "id": "221f4bdc",
   "metadata": {},
   "outputs": [],
   "source": [
    "U=[[0, 0, 0, 0, 1., 0, 0, 0], [0.35355339059327373, 0, 0.9354143466934854, 0, 0, 0, 0, 0], \n",
    " [0, 0.35355339059327373, 0, -0.9354143466934854, 0, 0, 0, 0], [0, 0, 0, 0, 0, 1., 0, 0], [0, 0, 0, 0, 0, 0, 1., 0], \n",
    " [0, 0.9354143466934853, 0, 0.35355339059327373, 0, 0, 0, 0], [0.9354143466934853, 0, -0.35355339059327373, 0, 0, 0, 0, 0], \n",
    " [0, 0, 0, 0, 0, 0, 0, 1.]]"
   ]
  },
  {
   "cell_type": "code",
   "execution_count": 42,
   "id": "7aed6072",
   "metadata": {},
   "outputs": [
    {
     "data": {
      "text/plain": [
       "<qiskit.circuit.instructionset.InstructionSet at 0x7fc7ee6346c0>"
      ]
     },
     "execution_count": 42,
     "metadata": {},
     "output_type": "execute_result"
    }
   ],
   "source": [
    "qc.unitary(U,[0,1,2])"
   ]
  },
  {
   "cell_type": "code",
   "execution_count": 43,
   "id": "a09ed9eb",
   "metadata": {},
   "outputs": [],
   "source": [
    "trans_qc=transpile(qc,basis_gates=['cx','u3','u','cz'],optimization_level=3)"
   ]
  },
  {
   "cell_type": "code",
   "execution_count": 44,
   "id": "df29f3db",
   "metadata": {},
   "outputs": [
    {
     "data": {
      "image/png": "[encoded data removed]",
      "text/plain": [
       "<Figure size 1631.27x1167.88 with 1 Axes>"
      ]
     },
     "execution_count": 44,
     "metadata": {},
     "output_type": "execute_result"
    }
   ],
   "source": [
    "trans_qc.draw('mpl')"
   ]
  },
  {
   "cell_type": "code",
   "execution_count": 34,
   "id": "7f95cc2e",
   "metadata": {},
   "outputs": [
    {
     "data": {
      "image/png": "[encoded data removed]",
      "text/plain": [
       "<Figure size 1617.85x445.48 with 1 Axes>"
      ]
     },
     "execution_count": 34,
     "metadata": {},
     "output_type": "execute_result"
    }
   ],
   "source": [
    "trans_qc.draw('mpl')"
   ]
  },
  {
   "cell_type": "code",
   "execution_count": 79,
   "id": "495c1351",
   "metadata": {},
   "outputs": [
    {
     "data": {
      "text/plain": [
       "0.7071067811865476"
      ]
     },
     "execution_count": 79,
     "metadata": {},
     "output_type": "execute_result"
    }
   ],
   "source": [
    "2**-0.5"
   ]
  },
  {
   "cell_type": "code",
   "execution_count": 1,
   "id": "cc138ec5",
   "metadata": {},
   "outputs": [],
   "source": [
    "from qiskit.providers.ibmq import least_busy"
   ]
  },
  {
   "cell_type": "code",
   "execution_count": 3,
   "id": "af177b4f",
   "metadata": {},
   "outputs": [],
   "source": [
    "import qiskit"
   ]
  },
  {
   "cell_type": "code",
   "execution_count": 4,
   "id": "836dc9f1",
   "metadata": {},
   "outputs": [
    {
     "data": {
      "text/plain": [
       "qiskit.providers.backend.Backend"
      ]
     },
     "execution_count": 4,
     "metadata": {},
     "output_type": "execute_result"
    }
   ],
   "source": [
    "qiskit.providers.backend.Backend"
   ]
  },
  {
   "cell_type": "code",
   "execution_count": 1,
   "id": "d6a5640b",
   "metadata": {},
   "outputs": [],
   "source": [
    "l=0.75\n",
    "gm=(1-l)**0.5/(2**0.5)\n",
    "gp=(1+l)**0.5/(2**0.5)"
   ]
  },
  {
   "cell_type": "code",
   "execution_count": 2,
   "id": "850bb445",
   "metadata": {},
   "outputs": [
    {
     "data": {
      "text/plain": [
       "0.35355339059327373"
      ]
     },
     "execution_count": 2,
     "metadata": {},
     "output_type": "execute_result"
    }
   ],
   "source": [
    "gm"
   ]
  },
  {
   "cell_type": "code",
   "execution_count": 3,
   "id": "ad99d8cf",
   "metadata": {},
   "outputs": [
    {
     "data": {
      "text/plain": [
       "0.9354143466934853"
      ]
     },
     "execution_count": 3,
     "metadata": {},
     "output_type": "execute_result"
    }
   ],
   "source": [
    "gp"
   ]
  },
  {
   "cell_type": "code",
   "execution_count": 4,
   "id": "5430a217",
   "metadata": {},
   "outputs": [],
   "source": [
    "fid=[(0.96988773459573+2.4363251288173247e-17j),\n",
    " (0.9673439505668706+1.0383621470586337e-17j),\n",
    " (0.9706917461535958-1.2119049077468252e-17j),\n",
    " (0.9731782805614134-2.783637732144719e-17j),\n",
    " (0.9793223008532475+1.0427513507551162e-16j),\n",
    " (0.9746951654415983-3.7495441301597173e-17j),\n",
    " (0.9620702614671094+5.192001045082164e-18j),\n",
    " (0.9728893029934645-2.2608107114385593e-17j),\n",
    " (0.96580200683517-3.3476691079544817e-17j),\n",
    " (0.960841071237759-1.6434684432783862e-17j),\n",
    " (0.9612494302754113-2.5850421102322812e-17j)]"
   ]
  },
  {
   "cell_type": "code",
   "execution_count": 7,
   "id": "2df4d238",
   "metadata": {},
   "outputs": [],
   "source": [
    "fiddec=[(0.9954003619482998-4.641032297039247e-17j),\n",
    " (0.9954523398087629+1.0583556077116377e-16j),\n",
    " (0.9954946833967737+8.670254628915249e-18j),\n",
    " (0.9945802870424951-2.591866064307436e-18j),\n",
    " (0.995786608881142-4.3296638177119495e-18j),\n",
    " (0.9957938191980285-5.89964658838384e-17j),\n",
    " (0.9951553629686074-1.3882969924388075e-17j),\n",
    " (0.9958287428952262+1.735170158520008e-17j),\n",
    " (0.9957487234906935-1.3122264250580849e-17j),\n",
    " (0.9956884195241263-5.205371523413456e-18j)]"
   ]
  },
  {
   "cell_type": "code",
   "execution_count": 1,
   "id": "0cd53e22",
   "metadata": {},
   "outputs": [],
   "source": [
    "fidsimple=[(0.9977811302434743+6.245846924318826e-17j),\n",
    " (0.9979512319727428+6.245373310050654e-17j),\n",
    " (0.9981040089169582-7.98293433432561e-17j),\n",
    " (0.9974170359037349-1.2149154054422256e-16j),\n",
    " (0.9971635306336362+3.4724722221161965e-17j),\n",
    " (0.9975915892041071+6.423604834872988e-17j),\n",
    " (0.997674513635429-5.3782264596977516e-17j),\n",
    " (0.9973184022920231-3.7740811015075004e-17j),\n",
    " (0.9973848897718072-7.982758482976066e-17j),\n",
    " (0.9981296207795207+7.46043197285274e-17j)]"
   ]
  },
  {
   "cell_type": "code",
   "execution_count": 8,
   "id": "41919369",
   "metadata": {},
   "outputs": [
    {
     "data": {
      "text/plain": [
       "array([0.99778113+6.2460e-17j, 0.99795123+6.2450e-17j,\n",
       "       0.99810401-7.9830e-17j, 0.99741704-1.2149e-16j,\n",
       "       0.99716353+3.4720e-17j, 0.99759159+6.4240e-17j,\n",
       "       0.99767451-5.3780e-17j, 0.9973184 -3.7740e-17j,\n",
       "       0.99738489-7.9830e-17j, 0.99812962+7.4600e-17j])"
      ]
     },
     "execution_count": 8,
     "metadata": {},
     "output_type": "execute_result"
    }
   ],
   "source": [
    "np.round(fidsimple,20)"
   ]
  },
  {
   "cell_type": "code",
   "execution_count": 2,
   "id": "f441cbb6",
   "metadata": {},
   "outputs": [],
   "source": [
    "import numpy as np"
   ]
  },
  {
   "cell_type": "code",
   "execution_count": 6,
   "id": "10838bf6",
   "metadata": {},
   "outputs": [
    {
     "data": {
      "text/plain": [
       "array([0.96988773, 0.96734395, 0.97069175, 0.97317828, 0.9793223 ,\n",
       "       0.97469517, 0.96207026, 0.9728893 , 0.96580201, 0.96084107,\n",
       "       0.96124943])"
      ]
     },
     "execution_count": 6,
     "metadata": {},
     "output_type": "execute_result"
    }
   ],
   "source": [
    "np.real(fid)"
   ]
  },
  {
   "cell_type": "code",
   "execution_count": 8,
   "id": "32ed59bd",
   "metadata": {},
   "outputs": [
    {
     "data": {
      "text/plain": [
       "array([0.99540036, 0.99545234, 0.99549468, 0.99458029, 0.99578661,\n",
       "       0.99579382, 0.99515536, 0.99582874, 0.99574872, 0.99568842])"
      ]
     },
     "execution_count": 8,
     "metadata": {},
     "output_type": "execute_result"
    }
   ],
   "source": [
    "np.real(fiddec)"
   ]
  },
  {
   "cell_type": "code",
   "execution_count": 2,
   "id": "109c4672",
   "metadata": {},
   "outputs": [
    {
     "name": "stdout",
     "output_type": "stream",
     "text": [
      "Help on function least_busy in module qiskit.providers.ibmq:\n",
      "\n",
      "least_busy(backends: List[qiskit.providers.backend.Backend], reservation_lookahead: Union[int, NoneType] = 60) -> qiskit.providers.backend.Backend\n",
      "    Return the least busy backend from a list.\n",
      "    \n",
      "    Return the least busy available backend for those that\n",
      "    have a ``pending_jobs`` in their ``status``. Note that local\n",
      "    backends may not have this attribute.\n",
      "    \n",
      "    Args:\n",
      "        backends: The backends to choose from.\n",
      "        reservation_lookahead: A backend is considered unavailable if it\n",
      "            has reservations in the next ``n`` minutes, where ``n`` is\n",
      "            the value of ``reservation_lookahead``.\n",
      "            If ``None``, reservations are not taken into consideration.\n",
      "    \n",
      "    Returns:\n",
      "        The backend with the fewest number of pending jobs.\n",
      "    \n",
      "    Raises:\n",
      "        IBMQError: If the backends list is empty, or if none of the backends\n",
      "            is available, or if a backend in the list\n",
      "            does not have the ``pending_jobs`` attribute in its status.\n",
      "\n"
     ]
    }
   ],
   "source": [
    "help(least_busy)"
   ]
  },
  {
   "cell_type": "markdown",
   "id": "f360b100",
   "metadata": {
    "heading_collapsed": true
   },
   "source": [
    "# Testing ordering"
   ]
  },
  {
   "cell_type": "markdown",
   "id": "5b51e423",
   "metadata": {
    "hidden": true
   },
   "source": [
    "## Experiment 1"
   ]
  },
  {
   "cell_type": "code",
   "execution_count": 299,
   "id": "73ed4042",
   "metadata": {
    "hidden": true
   },
   "outputs": [],
   "source": [
    "U=[[1,0,0,0],\n",
    "   [0,1,0,0],\n",
    "   [0,0,0,1],\n",
    "   [0,0,1,0]\n",
    "  ]"
   ]
  },
  {
   "cell_type": "code",
   "execution_count": 300,
   "id": "15cb99b9",
   "metadata": {
    "hidden": true
   },
   "outputs": [
    {
     "data": {
      "image/png": "[encoded data removed]",
      "text/plain": [
       "<Figure size 246.375x144.48 with 1 Axes>"
      ]
     },
     "execution_count": 300,
     "metadata": {},
     "output_type": "execute_result"
    }
   ],
   "source": [
    "q = QuantumRegister(2)\n",
    "qc=QuantumCircuit(q)\n",
    "qc.unitary(U,[0,1])\n",
    "qc.draw('mpl')"
   ]
  },
  {
   "cell_type": "code",
   "execution_count": 301,
   "id": "3ea81975",
   "metadata": {
    "hidden": true
   },
   "outputs": [
    {
     "data": {
      "image/png": "[encoded data removed]",
      "text/plain": [
       "<Figure size 246.375x144.48 with 1 Axes>"
      ]
     },
     "execution_count": 301,
     "metadata": {},
     "output_type": "execute_result"
    }
   ],
   "source": [
    "qc_transpiled=transpile(qc,optimization_level=3)\n",
    "qc_transpiled.draw('mpl')"
   ]
  },
  {
   "cell_type": "markdown",
   "id": "5c0d84f5",
   "metadata": {
    "hidden": true
   },
   "source": [
    "### Quantum process tomography"
   ]
  },
  {
   "cell_type": "code",
   "execution_count": 302,
   "id": "d02fb0ac",
   "metadata": {
    "hidden": true
   },
   "outputs": [],
   "source": [
    "# Setting provider\n",
    "backend='ibmq_bogota'\n",
    "quamtum_computer= provider.get_backend(backend)"
   ]
  },
  {
   "cell_type": "code",
   "execution_count": 303,
   "id": "ffdb52fa",
   "metadata": {
    "hidden": true
   },
   "outputs": [],
   "source": [
    "qpt_circs = process_tomography_circuits(qc,[0],prepared_qubits=[0])"
   ]
  },
  {
   "cell_type": "code",
   "execution_count": 304,
   "id": "9002f60e",
   "metadata": {
    "hidden": true,
    "scrolled": true
   },
   "outputs": [
    {
     "name": "stdout",
     "output_type": "stream",
     "text": [
      "Job Status: job has successfully run\n"
     ]
    }
   ],
   "source": [
    "job = execute(qpt_circs,backend=quamtum_computer, shots=20000)\n",
    "\n",
    "job_monitor(job)"
   ]
  },
  {
   "cell_type": "code",
   "execution_count": 305,
   "id": "afd39ef1",
   "metadata": {
    "hidden": true
   },
   "outputs": [],
   "source": [
    "qpt_tomo_comp = ProcessTomographyFitter(job.result(), qpt_circs)"
   ]
  },
  {
   "cell_type": "code",
   "execution_count": 306,
   "id": "76697bf7",
   "metadata": {
    "hidden": true
   },
   "outputs": [],
   "source": [
    "choi=qpt_tomo_comp.fit()"
   ]
  },
  {
   "cell_type": "code",
   "execution_count": 307,
   "id": "399b52db",
   "metadata": {
    "hidden": true
   },
   "outputs": [
    {
     "name": "stdout",
     "output_type": "stream",
     "text": [
      "[[ 1. +0.j   0. +0.j   0. +0.j   0.9-0.1j]\n",
      " [ 0. -0.j   0. +0.j  -0. -0.j  -0. -0.j ]\n",
      " [ 0. -0.j  -0. +0.j   0.1+0.j   0.1-0.1j]\n",
      " [ 0.9+0.1j -0. +0.j   0.1+0.1j  0.9+0.j ]]\n"
     ]
    }
   ],
   "source": [
    "print(np.round(choi,1))"
   ]
  },
  {
   "cell_type": "markdown",
   "id": "8110a372",
   "metadata": {
    "hidden": true
   },
   "source": [
    "## Experiment 2"
   ]
  },
  {
   "cell_type": "code",
   "execution_count": 308,
   "id": "8af74fe1",
   "metadata": {
    "hidden": true
   },
   "outputs": [],
   "source": [
    "U=[[1,0,0,0],\n",
    "   [0,1,0,0],\n",
    "   [0,0,0,1],\n",
    "   [0,0,1,0]\n",
    "  ]"
   ]
  },
  {
   "cell_type": "code",
   "execution_count": 309,
   "id": "704c6309",
   "metadata": {
    "hidden": true
   },
   "outputs": [
    {
     "data": {
      "image/png": "[encoded data removed]",
      "text/plain": [
       "<Figure size 246.375x144.48 with 1 Axes>"
      ]
     },
     "execution_count": 309,
     "metadata": {},
     "output_type": "execute_result"
    }
   ],
   "source": [
    "q = QuantumRegister(2)\n",
    "qc=QuantumCircuit(q)\n",
    "qc.unitary(U,[0,1])\n",
    "qc.draw('mpl')"
   ]
  },
  {
   "cell_type": "code",
   "execution_count": 310,
   "id": "b5ab7232",
   "metadata": {
    "hidden": true
   },
   "outputs": [
    {
     "data": {
      "image/png": "[encoded data removed]",
      "text/plain": [
       "<Figure size 246.375x144.48 with 1 Axes>"
      ]
     },
     "execution_count": 310,
     "metadata": {},
     "output_type": "execute_result"
    }
   ],
   "source": [
    "qc_transpiled=transpile(qc,optimization_level=3)\n",
    "qc_transpiled.draw('mpl')"
   ]
  },
  {
   "cell_type": "markdown",
   "id": "758f8ec2",
   "metadata": {
    "hidden": true
   },
   "source": [
    "### Quantum process tomography"
   ]
  },
  {
   "cell_type": "code",
   "execution_count": 311,
   "id": "8dfbac31",
   "metadata": {
    "hidden": true
   },
   "outputs": [],
   "source": [
    "# Setting provider\n",
    "backend='ibmq_bogota'\n",
    "quamtum_computer= provider.get_backend(backend)"
   ]
  },
  {
   "cell_type": "code",
   "execution_count": 312,
   "id": "493531d5",
   "metadata": {
    "hidden": true
   },
   "outputs": [],
   "source": [
    "qpt_circs = process_tomography_circuits(qc,[1],prepared_qubits=[1])"
   ]
  },
  {
   "cell_type": "code",
   "execution_count": 313,
   "id": "4da2ecfa",
   "metadata": {
    "hidden": true,
    "scrolled": true
   },
   "outputs": [
    {
     "name": "stdout",
     "output_type": "stream",
     "text": [
      "Job Status: job has successfully run\n"
     ]
    }
   ],
   "source": [
    "job = execute(qpt_circs,backend=quamtum_computer, shots=20000)\n",
    "\n",
    "job_monitor(job)"
   ]
  },
  {
   "cell_type": "code",
   "execution_count": 314,
   "id": "f1ef323d",
   "metadata": {
    "hidden": true
   },
   "outputs": [],
   "source": [
    "qpt_tomo_comp = ProcessTomographyFitter(job.result(), qpt_circs)"
   ]
  },
  {
   "cell_type": "code",
   "execution_count": 315,
   "id": "8c71e182",
   "metadata": {
    "hidden": true
   },
   "outputs": [],
   "source": [
    "choi=qpt_tomo_comp.fit()"
   ]
  },
  {
   "cell_type": "code",
   "execution_count": 316,
   "id": "21967bae",
   "metadata": {
    "hidden": true
   },
   "outputs": [
    {
     "name": "stdout",
     "output_type": "stream",
     "text": [
      "[[ 1. +0.j  0. -0.j  0. +0.j -0. -0.j]\n",
      " [ 0. +0.j  0. +0.j -0. +0.j -0. -0.j]\n",
      " [ 0. -0.j -0. -0.j  0.1+0.j  0. -0.j]\n",
      " [-0. +0.j -0. +0.j  0. +0.j  0.9+0.j]]\n"
     ]
    }
   ],
   "source": [
    "print(np.round(choi,1))"
   ]
  },
  {
   "cell_type": "markdown",
   "id": "a38cfa40",
   "metadata": {
    "hidden": true
   },
   "source": [
    "## Experiment 3"
   ]
  },
  {
   "cell_type": "code",
   "execution_count": 327,
   "id": "05ba1b91",
   "metadata": {
    "hidden": true
   },
   "outputs": [
    {
     "data": {
      "image/png": "[encoded data removed]",
      "text/plain": [
       "<Figure size 186.175x144.48 with 1 Axes>"
      ]
     },
     "execution_count": 327,
     "metadata": {},
     "output_type": "execute_result"
    }
   ],
   "source": [
    "q = QuantumRegister(2)\n",
    "qc=QuantumCircuit(q)\n",
    "qc.cnot(q[0],q[1])\n",
    "qc.draw('mpl')"
   ]
  },
  {
   "cell_type": "code",
   "execution_count": 328,
   "id": "a031646e",
   "metadata": {
    "hidden": true
   },
   "outputs": [
    {
     "data": {
      "image/png": "[encoded data removed]",
      "text/plain": [
       "<Figure size 186.175x144.48 with 1 Axes>"
      ]
     },
     "execution_count": 328,
     "metadata": {},
     "output_type": "execute_result"
    }
   ],
   "source": [
    "qc_transpiled=transpile(qc,optimization_level=3)\n",
    "qc_transpiled.draw('mpl')"
   ]
  },
  {
   "cell_type": "markdown",
   "id": "659ef871",
   "metadata": {
    "hidden": true
   },
   "source": [
    "### Quantum process tomography"
   ]
  },
  {
   "cell_type": "code",
   "execution_count": 329,
   "id": "b335a3ff",
   "metadata": {
    "hidden": true
   },
   "outputs": [],
   "source": [
    "# Setting provider\n",
    "backend='ibmq_bogota'\n",
    "quamtum_computer= provider.get_backend(backend)"
   ]
  },
  {
   "cell_type": "code",
   "execution_count": 330,
   "id": "ab6f7581",
   "metadata": {
    "hidden": true
   },
   "outputs": [],
   "source": [
    "qpt_circs = process_tomography_circuits(qc,q[1],prepared_qubits=q[1])"
   ]
  },
  {
   "cell_type": "code",
   "execution_count": 331,
   "id": "078fbbae",
   "metadata": {
    "hidden": true,
    "scrolled": true
   },
   "outputs": [
    {
     "name": "stdout",
     "output_type": "stream",
     "text": [
      "Job Status: job has successfully run\n"
     ]
    }
   ],
   "source": [
    "job = execute(qpt_circs,backend=quamtum_computer, shots=20000)\n",
    "\n",
    "job_monitor(job)"
   ]
  },
  {
   "cell_type": "code",
   "execution_count": 369,
   "id": "32e5d7c4",
   "metadata": {
    "hidden": true
   },
   "outputs": [
    {
     "data": {
      "image/png": "[encoded data removed]",
      "text/plain": [
       "<Figure size 487.175x204.68 with 1 Axes>"
      ]
     },
     "execution_count": 369,
     "metadata": {},
     "output_type": "execute_result"
    }
   ],
   "source": [
    "qpt_circs[11].draw('mpl')"
   ]
  },
  {
   "cell_type": "code",
   "execution_count": 332,
   "id": "43981c2f",
   "metadata": {
    "hidden": true
   },
   "outputs": [],
   "source": [
    "qpt_tomo_comp = ProcessTomographyFitter(job.result(), qpt_circs)"
   ]
  },
  {
   "cell_type": "code",
   "execution_count": 333,
   "id": "c4f81a08",
   "metadata": {
    "hidden": true
   },
   "outputs": [],
   "source": [
    "choi=qpt_tomo_comp.fit()"
   ]
  },
  {
   "cell_type": "code",
   "execution_count": 334,
   "id": "7939b324",
   "metadata": {
    "hidden": true
   },
   "outputs": [
    {
     "name": "stdout",
     "output_type": "stream",
     "text": [
      "[[ 1. +0.j  0. -0.j  0. +0.j  0.8-0.j]\n",
      " [ 0. +0.j  0. +0.j -0. +0.j -0. -0.j]\n",
      " [ 0. -0.j -0. -0.j  0.1+0.j  0. -0.j]\n",
      " [ 0.8+0.j -0. +0.j  0. +0.j  0.9+0.j]]\n"
     ]
    }
   ],
   "source": [
    "print(np.round(choi,1))"
   ]
  },
  {
   "cell_type": "code",
   "execution_count": 325,
   "id": "408d74bd",
   "metadata": {
    "hidden": true
   },
   "outputs": [
    {
     "name": "stdout",
     "output_type": "stream",
     "text": [
      "[[ 1. +0.j  0. -0.j  0. +0.j  0.8-0.j]\n",
      " [ 0. +0.j  0. +0.j -0. -0.j -0. -0.j]\n",
      " [ 0. -0.j -0. +0.j  0.1+0.j  0. -0.j]\n",
      " [ 0.8+0.j -0. +0.j  0. +0.j  0.9+0.j]]\n"
     ]
    }
   ],
   "source": [
    "print(np.round(choi,1))"
   ]
  },
  {
   "cell_type": "markdown",
   "id": "47ed608a",
   "metadata": {
    "hidden": true
   },
   "source": [
    "## Experiment 4"
   ]
  },
  {
   "cell_type": "code",
   "execution_count": 473,
   "id": "46a5f28f",
   "metadata": {
    "hidden": true
   },
   "outputs": [],
   "source": [
    "# Setting provider\n",
    "backend='ibmq_santiago'\n",
    "quamtum_computer= provider.get_backend(backend)"
   ]
  },
  {
   "cell_type": "code",
   "execution_count": 474,
   "id": "2fc3c021",
   "metadata": {
    "hidden": true
   },
   "outputs": [
    {
     "data": {
      "image/png": "[encoded data removed]",
      "text/plain": [
       "<Figure size 146.652x144.48 with 1 Axes>"
      ]
     },
     "execution_count": 474,
     "metadata": {},
     "output_type": "execute_result"
    }
   ],
   "source": [
    "qc_sub=QuantumCircuit(2)\n",
    "qc_sub.cnot([0],[1])\n",
    "qc_sub.draw('mpl')"
   ]
  },
  {
   "cell_type": "code",
   "execution_count": 475,
   "id": "d87e4727",
   "metadata": {
    "hidden": true
   },
   "outputs": [
    {
     "data": {
      "image/png": "[encoded data removed]",
      "text/plain": [
       "<Figure size 246.521x204.68 with 1 Axes>"
      ]
     },
     "execution_count": 475,
     "metadata": {},
     "output_type": "execute_result"
    }
   ],
   "source": [
    "csub=qc_sub.to_gate(label='CNOT').control(1,ctrl_state=0)\n",
    "q = QuantumRegister(3)\n",
    "qc=QuantumCircuit(q)\n",
    "qc.append(csub,[0,2,1])\n",
    "qc.draw('mpl')\n",
    "#qc.unitary(U3,[0,1]).c_if(c, 1)"
   ]
  },
  {
   "cell_type": "code",
   "execution_count": 476,
   "id": "3f465451",
   "metadata": {
    "hidden": true
   },
   "outputs": [
    {
     "data": {
      "text/html": [
       "<pre style=\"word-wrap: normal;white-space: pre;background: #fff0;line-height: 1.1;font-family: &quot;Courier New&quot;,Courier,monospace\">        ┌───┐                                                  ┌───┐      ┌───┐\n",
       "q641_0: ┤ X ├──────────────■─────────────────────■─────────■───┤ T ├───■──┤ X ├\n",
       "        ├───┤┌───┐┌─────┐┌─┴─┐┌───┐┌───┐┌─────┐┌─┴─┐┌───┐  │   ├───┤   │  └───┘\n",
       "q641_1: ┤ H ├┤ X ├┤ Tdg ├┤ X ├┤ T ├┤ X ├┤ Tdg ├┤ X ├┤ T ├──┼───┤ H ├───┼───────\n",
       "        └───┘└─┬─┘└─────┘└───┘└───┘└─┬─┘└┬───┬┘└───┘└───┘┌─┴─┐┌┴───┴┐┌─┴─┐     \n",
       "q641_2: ───────■─────────────────────■───┤ T ├───────────┤ X ├┤ Tdg ├┤ X ├─────\n",
       "                                         └───┘           └───┘└─────┘└───┘     </pre>"
      ],
      "text/plain": [
       "        ┌───┐                                                  ┌───┐      ┌───┐\n",
       "q641_0: ┤ X ├──────────────■─────────────────────■─────────■───┤ T ├───■──┤ X ├\n",
       "        ├───┤┌───┐┌─────┐┌─┴─┐┌───┐┌───┐┌─────┐┌─┴─┐┌───┐  │   ├───┤   │  └───┘\n",
       "q641_1: ┤ H ├┤ X ├┤ Tdg ├┤ X ├┤ T ├┤ X ├┤ Tdg ├┤ X ├┤ T ├──┼───┤ H ├───┼───────\n",
       "        └───┘└─┬─┘└─────┘└───┘└───┘└─┬─┘└┬───┬┘└───┘└───┘┌─┴─┐┌┴───┴┐┌─┴─┐     \n",
       "q641_2: ───────■─────────────────────■───┤ T ├───────────┤ X ├┤ Tdg ├┤ X ├─────\n",
       "                                         └───┘           └───┘└─────┘└───┘     "
      ]
     },
     "execution_count": 476,
     "metadata": {},
     "output_type": "execute_result"
    }
   ],
   "source": [
    "trans=transpile(qc,optimization_level=3)\n",
    "trans.draw()"
   ]
  },
  {
   "cell_type": "code",
   "execution_count": 477,
   "id": "55341665",
   "metadata": {
    "hidden": true
   },
   "outputs": [],
   "source": [
    "qpt_circs = process_tomography_circuits(qc,[1],prepared_qubits=[1])"
   ]
  },
  {
   "cell_type": "code",
   "execution_count": 478,
   "id": "87417638",
   "metadata": {
    "hidden": true,
    "scrolled": true
   },
   "outputs": [
    {
     "name": "stdout",
     "output_type": "stream",
     "text": [
      "Job Status: job has successfully run\n"
     ]
    }
   ],
   "source": [
    "job = execute(qpt_circs,backend=quamtum_computer, shots=20000)\n",
    "\n",
    "job_monitor(job)"
   ]
  },
  {
   "cell_type": "code",
   "execution_count": 479,
   "id": "1b178d6f",
   "metadata": {
    "hidden": true
   },
   "outputs": [],
   "source": [
    "qpt_tomo_comp = ProcessTomographyFitter(job.result(), qpt_circs)"
   ]
  },
  {
   "cell_type": "code",
   "execution_count": 480,
   "id": "4bca9ce6",
   "metadata": {
    "hidden": true
   },
   "outputs": [],
   "source": [
    "choi=qpt_tomo_comp.fit()"
   ]
  },
  {
   "cell_type": "code",
   "execution_count": 481,
   "id": "c41cb189",
   "metadata": {
    "hidden": true
   },
   "outputs": [
    {
     "data": {
      "text/plain": [
       "Choi([[ 9.15221400e-01+0.j        , -2.67525569e-02-0.01438828j,\n",
       "       -7.93274555e-03+0.00216578j,  8.72029401e-01-0.0569797j ],\n",
       "      [-2.67525569e-02+0.01438828j,  8.61401744e-02+0.j        ,\n",
       "        3.26227344e-02+0.05094684j,  9.07534817e-04-0.00436608j],\n",
       "      [-7.93274555e-03-0.00216578j,  3.26227344e-02-0.05094684j,\n",
       "        1.00500529e-01+0.j        ,  8.09816842e-03+0.0269001j ],\n",
       "      [ 8.72029401e-01+0.0569797j ,  9.07534817e-04+0.00436608j,\n",
       "        8.09816842e-03-0.0269001j ,  8.98137897e-01+0.j        ]],\n",
       "     input_dims=(2,), output_dims=(2,))"
      ]
     },
     "execution_count": 481,
     "metadata": {},
     "output_type": "execute_result"
    }
   ],
   "source": [
    "choi"
   ]
  },
  {
   "cell_type": "code",
   "execution_count": 491,
   "id": "2ad3324c",
   "metadata": {
    "hidden": true
   },
   "outputs": [
    {
     "data": {
      "text/plain": [
       "array([[ 0.9+0.j , -0. -0.j , -0. +0.j ,  0.9-0.1j],\n",
       "       [-0. +0.j ,  0.1+0.j ,  0. +0.1j,  0. -0.j ],\n",
       "       [-0. -0.j ,  0. -0.1j,  0.1+0.j ,  0. +0.j ],\n",
       "       [ 0.9+0.1j,  0. +0.j ,  0. -0.j ,  0.9+0.j ]])"
      ]
     },
     "execution_count": 491,
     "metadata": {},
     "output_type": "execute_result"
    }
   ],
   "source": [
    "np.round(np.array([[ 9.15221400e-01+0.j        , -2.67525569e-02-0.01438828j,\n",
    "       -7.93274555e-03+0.00216578j,  8.72029401e-01-0.0569797j ],\n",
    "      [-2.67525569e-02+0.01438828j,  8.61401744e-02+0.j        ,\n",
    "        3.26227344e-02+0.05094684j,  9.07534817e-04-0.00436608j],\n",
    "      [-7.93274555e-03-0.00216578j,  3.26227344e-02-0.05094684j,\n",
    "        1.00500529e-01+0.j        ,  8.09816842e-03+0.0269001j ],\n",
    "      [ 8.72029401e-01+0.0569797j ,  9.07534817e-04+0.00436608j,\n",
    "        8.09816842e-03-0.0269001j ,  8.98137897e-01+0.j        ]]),1)"
   ]
  },
  {
   "cell_type": "markdown",
   "id": "67403737",
   "metadata": {
    "hidden": true
   },
   "source": [
    "## Experiment 5"
   ]
  },
  {
   "cell_type": "code",
   "execution_count": null,
   "id": "23d0f3c6",
   "metadata": {
    "hidden": true
   },
   "outputs": [],
   "source": []
  },
  {
   "cell_type": "code",
   "execution_count": 482,
   "id": "40aee630",
   "metadata": {
    "hidden": true
   },
   "outputs": [],
   "source": [
    "# Setting provider\n",
    "backend='ibmq_santiago'\n",
    "quamtum_computer= provider.get_backend(backend)"
   ]
  },
  {
   "cell_type": "code",
   "execution_count": 483,
   "id": "ef1e03be",
   "metadata": {
    "hidden": true
   },
   "outputs": [
    {
     "data": {
      "image/png": "[encoded data removed]",
      "text/plain": [
       "<Figure size 146.652x144.48 with 1 Axes>"
      ]
     },
     "execution_count": 483,
     "metadata": {},
     "output_type": "execute_result"
    }
   ],
   "source": [
    "qc_sub=QuantumCircuit(2)\n",
    "qc_sub.cnot([1],[0])\n",
    "qc_sub.draw('mpl')"
   ]
  },
  {
   "cell_type": "code",
   "execution_count": 484,
   "id": "3bfc4ead",
   "metadata": {
    "hidden": true
   },
   "outputs": [
    {
     "data": {
      "image/png": "[encoded data removed]",
      "text/plain": [
       "<Figure size 246.666x204.68 with 1 Axes>"
      ]
     },
     "execution_count": 484,
     "metadata": {},
     "output_type": "execute_result"
    }
   ],
   "source": [
    "csub=qc_sub.to_gate(label='CNOT').control(1,ctrl_state=0)\n",
    "q = QuantumRegister(3)\n",
    "qc=QuantumCircuit(q)\n",
    "qc.append(csub,[0,2,1])\n",
    "qc.draw('mpl')\n",
    "#qc.unitary(U3,[0,1]).c_if(c, 1)"
   ]
  },
  {
   "cell_type": "code",
   "execution_count": 485,
   "id": "4d63b052",
   "metadata": {
    "hidden": true
   },
   "outputs": [
    {
     "data": {
      "text/html": [
       "<pre style=\"word-wrap: normal;white-space: pre;background: #fff0;line-height: 1.1;font-family: &quot;Courier New&quot;,Courier,monospace\">        ┌───┐                                             ┌───┐      ┌───┐\n",
       "q649_0: ┤ X ├──────────────■─────────────────────■────■───┤ T ├───■──┤ X ├\n",
       "        └───┘              │             ┌───┐   │  ┌─┴─┐┌┴───┴┐┌─┴─┐└───┘\n",
       "q649_1: ───────■───────────┼─────────■───┤ T ├───┼──┤ X ├┤ Tdg ├┤ X ├─────\n",
       "        ┌───┐┌─┴─┐┌─────┐┌─┴─┐┌───┐┌─┴─┐┌┴───┴┐┌─┴─┐├───┤└┬───┬┘└───┘     \n",
       "q649_2: ┤ H ├┤ X ├┤ Tdg ├┤ X ├┤ T ├┤ X ├┤ Tdg ├┤ X ├┤ T ├─┤ H ├───────────\n",
       "        └───┘└───┘└─────┘└───┘└───┘└───┘└─────┘└───┘└───┘ └───┘           </pre>"
      ],
      "text/plain": [
       "        ┌───┐                                             ┌───┐      ┌───┐\n",
       "q649_0: ┤ X ├──────────────■─────────────────────■────■───┤ T ├───■──┤ X ├\n",
       "        └───┘              │             ┌───┐   │  ┌─┴─┐┌┴───┴┐┌─┴─┐└───┘\n",
       "q649_1: ───────■───────────┼─────────■───┤ T ├───┼──┤ X ├┤ Tdg ├┤ X ├─────\n",
       "        ┌───┐┌─┴─┐┌─────┐┌─┴─┐┌───┐┌─┴─┐┌┴───┴┐┌─┴─┐├───┤└┬───┬┘└───┘     \n",
       "q649_2: ┤ H ├┤ X ├┤ Tdg ├┤ X ├┤ T ├┤ X ├┤ Tdg ├┤ X ├┤ T ├─┤ H ├───────────\n",
       "        └───┘└───┘└─────┘└───┘└───┘└───┘└─────┘└───┘└───┘ └───┘           "
      ]
     },
     "execution_count": 485,
     "metadata": {},
     "output_type": "execute_result"
    }
   ],
   "source": [
    "trans=transpile(qc,optimization_level=3)\n",
    "trans.draw()"
   ]
  },
  {
   "cell_type": "code",
   "execution_count": 486,
   "id": "b90d71fe",
   "metadata": {
    "hidden": true
   },
   "outputs": [],
   "source": [
    "qpt_circs = process_tomography_circuits(qc,[1],prepared_qubits=[1])"
   ]
  },
  {
   "cell_type": "code",
   "execution_count": 487,
   "id": "fbc0f14c",
   "metadata": {
    "hidden": true,
    "scrolled": true
   },
   "outputs": [
    {
     "name": "stdout",
     "output_type": "stream",
     "text": [
      "Job Status: job has successfully run\n"
     ]
    }
   ],
   "source": [
    "job = execute(qpt_circs,backend=quamtum_computer, shots=20000)\n",
    "\n",
    "job_monitor(job)"
   ]
  },
  {
   "cell_type": "code",
   "execution_count": 488,
   "id": "e1b680af",
   "metadata": {
    "hidden": true
   },
   "outputs": [],
   "source": [
    "qpt_tomo_comp = ProcessTomographyFitter(job.result(), qpt_circs)"
   ]
  },
  {
   "cell_type": "code",
   "execution_count": 489,
   "id": "7ef5b632",
   "metadata": {
    "hidden": true
   },
   "outputs": [],
   "source": [
    "choi=qpt_tomo_comp.fit()"
   ]
  },
  {
   "cell_type": "code",
   "execution_count": 492,
   "id": "d9649b76",
   "metadata": {
    "hidden": true
   },
   "outputs": [
    {
     "data": {
      "text/plain": [
       "array([[ 0.9+0.j ,  0. -0.j ,  0. -0.1j, -0.1-0.1j],\n",
       "       [ 0. +0.j ,  0.1+0.j ,  0. +0.j , -0. +0.1j],\n",
       "       [ 0. +0.1j,  0. -0.j ,  0.1+0.j ,  0. -0.j ],\n",
       "       [-0.1+0.1j, -0. -0.1j,  0. +0.j ,  0.9+0.j ]])"
      ]
     },
     "execution_count": 492,
     "metadata": {},
     "output_type": "execute_result"
    }
   ],
   "source": [
    "np.round(choi,1)"
   ]
  },
  {
   "cell_type": "markdown",
   "id": "dbf876b5",
   "metadata": {
    "hidden": true
   },
   "source": [
    "## Experiment 6"
   ]
  },
  {
   "cell_type": "code",
   "execution_count": 645,
   "id": "dec5a402",
   "metadata": {
    "hidden": true
   },
   "outputs": [],
   "source": [
    "U2=[[0,gm,0,-gp],\n",
    "   [gm,0,-gp,0],\n",
    "   [gp,0,gm,0],\n",
    "    [0,gp,0,gm]]"
   ]
  },
  {
   "cell_type": "code",
   "execution_count": 646,
   "id": "d94d2be0",
   "metadata": {
    "hidden": true
   },
   "outputs": [
    {
     "data": {
      "image/png": "[encoded data removed]",
      "text/plain": [
       "<Figure size 246.375x144.48 with 1 Axes>"
      ]
     },
     "execution_count": 646,
     "metadata": {},
     "output_type": "execute_result"
    }
   ],
   "source": [
    "q = QuantumRegister(2)\n",
    "qc=QuantumCircuit(q)\n",
    "qc.unitary(U2,[0,1])\n",
    "qc.draw('mpl')"
   ]
  },
  {
   "cell_type": "code",
   "execution_count": 647,
   "id": "c74a5dee",
   "metadata": {
    "hidden": true
   },
   "outputs": [],
   "source": [
    "qpt_circs = process_tomography_circuits(qc,[1],prepared_qubits=[1])"
   ]
  },
  {
   "cell_type": "code",
   "execution_count": 648,
   "id": "66380cd9",
   "metadata": {
    "hidden": true
   },
   "outputs": [
    {
     "name": "stdout",
     "output_type": "stream",
     "text": [
      "Job Status: job has successfully run\n"
     ]
    }
   ],
   "source": [
    "job = execute(qpt_circs,backend=quamtum_computer, shots=20000)\n",
    "\n",
    "job_monitor(job)"
   ]
  },
  {
   "cell_type": "code",
   "execution_count": 649,
   "id": "2cdd0f57",
   "metadata": {
    "hidden": true
   },
   "outputs": [],
   "source": [
    "qpt_tomo_comp = ProcessTomographyFitter(job.result(), qpt_circs)"
   ]
  },
  {
   "cell_type": "code",
   "execution_count": 650,
   "id": "0742d512",
   "metadata": {
    "hidden": true
   },
   "outputs": [
    {
     "data": {
      "text/plain": [
       "array([[ 0.3+0.j, -0.1+0.j, -0.4-0.j, -0.1+0.j],\n",
       "       [-0.1-0.j,  0.7+0.j,  0. -0.j,  0.4+0.j],\n",
       "       [-0.4+0.j,  0. +0.j,  0.7+0.j,  0.1-0.j],\n",
       "       [-0.1-0.j,  0.4-0.j,  0.1+0.j,  0.3+0.j]])"
      ]
     },
     "execution_count": 650,
     "metadata": {},
     "output_type": "execute_result"
    }
   ],
   "source": [
    "choi=qpt_tomo_comp.fit()\n",
    "np.round(choi,1)"
   ]
  },
  {
   "cell_type": "markdown",
   "id": "d8319f93",
   "metadata": {
    "hidden": true
   },
   "source": [
    "## Experiment 7"
   ]
  },
  {
   "cell_type": "code",
   "execution_count": 651,
   "id": "4a0dd6b0",
   "metadata": {
    "hidden": true
   },
   "outputs": [],
   "source": [
    "U2=[[0,gm,0,-gp],\n",
    "   [gm,0,-gp,0],\n",
    "   [gp,0,gm,0],\n",
    "    [0,gp,0,gm]]"
   ]
  },
  {
   "cell_type": "code",
   "execution_count": 652,
   "id": "8bfc45e6",
   "metadata": {
    "hidden": true
   },
   "outputs": [
    {
     "data": {
      "image/png": "[encoded data removed]",
      "text/plain": [
       "<Figure size 246.23x144.48 with 1 Axes>"
      ]
     },
     "execution_count": 652,
     "metadata": {},
     "output_type": "execute_result"
    }
   ],
   "source": [
    "q = QuantumRegister(2)\n",
    "qc=QuantumCircuit(q)\n",
    "qc.unitary(U2,[0,1])\n",
    "qc.draw('mpl')"
   ]
  },
  {
   "cell_type": "code",
   "execution_count": 653,
   "id": "06a3fe7e",
   "metadata": {
    "hidden": true
   },
   "outputs": [],
   "source": [
    "qpt_circs = process_tomography_circuits(qc,[0],prepared_qubits=[0])"
   ]
  },
  {
   "cell_type": "code",
   "execution_count": 654,
   "id": "2e22f77d",
   "metadata": {
    "hidden": true
   },
   "outputs": [
    {
     "name": "stdout",
     "output_type": "stream",
     "text": [
      "Job Status: job has successfully run\n"
     ]
    }
   ],
   "source": [
    "job = execute(qpt_circs,backend=quamtum_computer, shots=20000)\n",
    "\n",
    "job_monitor(job)"
   ]
  },
  {
   "cell_type": "code",
   "execution_count": 655,
   "id": "e97a620c",
   "metadata": {
    "hidden": true
   },
   "outputs": [],
   "source": [
    "qpt_tomo_comp = ProcessTomographyFitter(job.result(), qpt_circs)"
   ]
  },
  {
   "cell_type": "code",
   "execution_count": 656,
   "id": "033d078f",
   "metadata": {
    "hidden": true
   },
   "outputs": [
    {
     "data": {
      "text/plain": [
       "array([[ 0.7+0.j , -0. -0.j , -0. +0.j ,  0.7+0.2j],\n",
       "       [-0. +0.j ,  0.3+0.j ,  0.3+0.1j, -0. -0.j ],\n",
       "       [-0. -0.j ,  0.3-0.1j,  0.3+0.j , -0. -0.j ],\n",
       "       [ 0.7-0.2j, -0. +0.j , -0. +0.j ,  0.7+0.j ]])"
      ]
     },
     "execution_count": 656,
     "metadata": {},
     "output_type": "execute_result"
    }
   ],
   "source": [
    "choi=qpt_tomo_comp.fit()\n",
    "np.round(choi,1)"
   ]
  },
  {
   "cell_type": "code",
   "execution_count": null,
   "id": "e957fe8e",
   "metadata": {
    "hidden": true
   },
   "outputs": [],
   "source": []
  }
 ],
 "metadata": {
  "kernelspec": {
   "display_name": "Python 3 (ipykernel)",
   "language": "python",
   "name": "python3"
  },
  "language_info": {
   "codemirror_mode": {
    "name": "ipython",
    "version": 3
   },
   "file_extension": ".py",
   "mimetype": "text/x-python",
   "name": "python",
   "nbconvert_exporter": "python",
   "pygments_lexer": "ipython3",
   "version": "3.8.13"
  }
 },
 "nbformat": 4,
 "nbformat_minor": 5
}
